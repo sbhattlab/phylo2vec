{
 "cells": [
  {
   "cell_type": "markdown",
   "id": "2ee97f3a",
   "metadata": {},
   "source": [
    "# Phylogenetic tree inference using Phylo2Vec\n",
    "\n",
    "We offer a few minimum examples for phylogenetic optimisation schemes using Phylo2Vec objects, including:\n",
    "* A hill-climbing scheme using Phylo2Vec vectors, with branch length optimisation using [RAxML-NG](https://github.com/amkozlov/raxml-ng)\n",
    "* [GradME](https://doi.org/10.1093/gbe/evad213), a continuous optimisation scheme based on a probabilistic version of Phylo2Vec."
   ]
  },
  {
   "cell_type": "markdown",
   "id": "a9382e6e",
   "metadata": {},
   "source": [
    "## 0. Imports & data"
   ]
  },
  {
   "cell_type": "code",
   "execution_count": 1,
   "id": "a6126425",
   "metadata": {},
   "outputs": [],
   "source": [
    "import os\n",
    "\n",
    "import matplotlib.pyplot as plt\n",
    "import numpy as np\n",
    "import seaborn as sns\n",
    "\n",
    "from ete4 import Tree\n",
    "from urllib.request import urlretrieve\n",
    "\n",
    "# To run the notebook here, we need to change the working directory\n",
    "# to py-phylo2vec, which is the parent directory of the Python package.\n",
    "os.chdir(\"../py-phylo2vec\")\n",
    "\n",
    "import phylo2vec as p2v\n",
    "from phylo2vec.utils.newick import apply_label_mapping"
   ]
  },
  {
   "cell_type": "markdown",
   "id": "00d58991",
   "metadata": {},
   "source": [
    "All available optimisation schemes can be found using `list_models`"
   ]
  },
  {
   "cell_type": "code",
   "execution_count": 2,
   "id": "8f92bcd5",
   "metadata": {},
   "outputs": [
    {
     "data": {
      "text/plain": [
       "['GradME', 'HillClimbing']"
      ]
     },
     "execution_count": 2,
     "metadata": {},
     "output_type": "execute_result"
    }
   ],
   "source": [
    "from phylo2vec.opt import list_methods\n",
    "\n",
    "list_methods()"
   ]
  },
  {
   "cell_type": "markdown",
   "id": "7247f975",
   "metadata": {},
   "source": [
    "\n",
    "As an example, we will look at a simple H3N2 dataset offered with the TreeTime package, available [here](https://github.com/neherlab/treetime_examples/blob/master/data/h3n2_na/h3n2_na_20.fasta)."
   ]
  },
  {
   "cell_type": "code",
   "execution_count": 3,
   "id": "f36acbfa",
   "metadata": {},
   "outputs": [
    {
     "data": {
      "text/plain": [
       "('phylo2vec/datasets/data/h3n2_na_20_demo.fa',\n",
       " <http.client.HTTPMessage at 0x7fce2453b940>)"
      ]
     },
     "execution_count": 3,
     "metadata": {},
     "output_type": "execute_result"
    }
   ],
   "source": [
    "# Change this if necessary\n",
    "dataset_dir = \"phylo2vec/datasets/data\"\n",
    "fasta_path = f\"{dataset_dir}/h3n2_na_20_demo.fa\"\n",
    "urlretrieve(\n",
    "    \"https://raw.githubusercontent.com/neherlab/treetime_examples/79eae7f8025a8ef3165c856c7359d92e738eb893/data/h3n2_na/h3n2_na_20.fasta\",\n",
    "    fasta_path,\n",
    ")"
   ]
  },
  {
   "cell_type": "markdown",
   "id": "60667e96",
   "metadata": {},
   "source": [
    "## 1. Hill-climbing\n",
    "\n",
    "A hill-climbing scheme for tree optimisation is described in the Phylo2Vec [paper](https://doi.org/10.1093/sysbio/syae030). The general idea is to sample a random index $i$ of the vector, evaluate proposals (in [0, 2*i]), and pick the tree which has the largest change in likelihood compared to our current best. To avoid getting stuck in local optima, we perform random re-rooting operations to change equivalences without changing the likelihood.\n",
    "\n",
    "The only required argument is `model`, a [substitution model](https://en.wikipedia.org/wiki/Models_of_DNA_evolution) name (as a string)."
   ]
  },
  {
   "cell_type": "code",
   "execution_count": 4,
   "id": "c6460eae",
   "metadata": {},
   "outputs": [
    {
     "name": "stdout",
     "output_type": "stream",
     "text": [
      "Changing equivalences...\n",
      "Start step: 4128.975\n"
     ]
    },
    {
     "name": "stderr",
     "output_type": "stream",
     "text": [
      "/home/nclow23/src/phylo2vec/public_fork2/py-phylo2vec/phylo2vec/utils/vector.py:204: FutureWarning: `reorder_v` is deprecated and will be removed in a future version. Use `queue_shuffle` instead.\n",
      "  warnings.warn(\n"
     ]
    },
    {
     "name": "stdout",
     "output_type": "stream",
     "text": [
      "Loss: 4128.975 (diff: -0.000)\n",
      "Loss: 4126.375 (diff: -2.600)\n",
      "Loss: 4126.374 (diff: -0.001)\n",
      "Loss: 4048.742 (diff: -77.632)\n",
      "Loss: 4048.742 (diff: -0.000)\n",
      "Loss: 3974.578 (diff: -74.164)\n",
      "Loss: 3932.410 (diff: -42.167)\n",
      "Loss: 3923.969 (diff: -8.441)\n",
      "Loss: 3919.187 (diff: -4.782)\n",
      "Loss: 3919.187 (diff: -0.000)\n",
      "Loss: 3889.435 (diff: -29.752)\n",
      "Loss: 3887.420 (diff: -2.015)\n",
      "Loss: 3884.883 (diff: -2.537)\n",
      "Loss: 3838.813 (diff: -46.070)\n",
      "Loss: 3758.045 (diff: -80.768)\n",
      "Loss: 3748.085 (diff: -9.960)\n",
      "End step: 3748.085\n",
      "Changing equivalences...\n",
      "Start step: 3748.085\n",
      "Loss: 3748.085 (diff: -0.000)\n",
      "Loss: 3747.398 (diff: -0.687)\n",
      "Loss: 3745.426 (diff: -1.971)\n",
      "Loss: 3745.426 (diff: -0.000)\n",
      "Loss: 3651.994 (diff: -93.433)\n",
      "Loss: 3650.981 (diff: -1.013)\n",
      "Loss: 3641.244 (diff: -9.737)\n",
      "Loss: 3627.691 (diff: -13.552)\n",
      "Loss: 3604.974 (diff: -22.718)\n",
      "Loss: 3592.806 (diff: -12.167)\n",
      "Loss: 3592.806 (diff: -0.000)\n",
      "End step: 3592.806\n",
      "Changing equivalences...\n",
      "Start step: 3592.805\n",
      "Loss: 3587.610 (diff: -5.195)\n",
      "Loss: 3576.307 (diff: -11.303)\n",
      "Loss: 3560.605 (diff: -15.701)\n",
      "Loss: 3546.579 (diff: -14.026)\n",
      "Loss: 3546.579 (diff: -0.000)\n",
      "End step: 3546.579\n",
      "Changing equivalences...\n",
      "Start step: 3546.595\n",
      "Loss: 3546.595 (diff: -0.000)\n",
      "Loss: 3543.616 (diff: -2.979)\n",
      "Loss: 3534.640 (diff: -8.976)\n",
      "Loss: 3495.193 (diff: -39.447)\n",
      "Loss: 3469.388 (diff: -25.805)\n",
      "Loss: 3197.803 (diff: -271.585)\n",
      "Loss: 3197.803 (diff: -0.000)\n",
      "End step: 3197.803\n",
      "Changing equivalences...\n",
      "Start step: 3197.803\n",
      "Loss: 3197.803 (diff: -0.000)\n",
      "Loss: 3193.873 (diff: -3.930)\n",
      "Loss: 3193.873 (diff: -0.000)\n",
      "Loss: 3193.873 (diff: -0.000)\n",
      "Loss: 3193.872 (diff: -0.000)\n",
      "Loss: 3123.632 (diff: -70.240)\n",
      "Loss: 3123.632 (diff: -0.000)\n",
      "End step: 3123.632\n",
      "Changing equivalences...\n",
      "Start step: 3123.632\n",
      "Loss: 3123.632 (diff: -0.000)\n",
      "Loss: 3123.343 (diff: -0.289)\n",
      "Loss: 3123.343 (diff: -0.000)\n",
      "End step: 3123.343\n",
      "Changing equivalences...\n",
      "Start step: 3123.343\n",
      "Loss: 3123.343 (diff: -0.000)\n",
      "End step: 3123.343\n",
      "No significantly better loss found 1/3.\n",
      "Changing equivalences...\n",
      "Start step: 3123.343\n",
      "End step: 3123.343\n",
      "No significantly better loss found 2/3.\n",
      "Changing equivalences...\n",
      "Start step: 3123.343\n",
      "End step: 3123.343\n",
      "No significantly better loss found 3/3.\n",
      "Optimisation finished in 17.20 seconds with 10 loss evaluations.\n"
     ]
    }
   ],
   "source": [
    "from phylo2vec.opt import HillClimbing\n",
    "\n",
    "hc = HillClimbing(model=\"GTR\", verbose=True)\n",
    "\n",
    "hc_result = hc.fit(fasta_path)"
   ]
  },
  {
   "cell_type": "markdown",
   "id": "a9e3e499",
   "metadata": {},
   "source": [
    "`hc_result` contains several objects:\n",
    " * the best topology\n",
    " * a label_mapping to convert the tree back to a Newick with taxon labels\n",
    " * the best score (here, the negative log-likelihood of the best tree)\n",
    " * all scores obtained during the optimisation"
   ]
  },
  {
   "cell_type": "code",
   "execution_count": 5,
   "id": "657dc4e3",
   "metadata": {},
   "outputs": [
    {
     "data": {
      "image/png": "[encoded data removed]",
      "text/plain": [
       "<Figure size 640x480 with 1 Axes>"
      ]
     },
     "metadata": {},
     "output_type": "display_data"
    }
   ],
   "source": [
    "plt.plot(hc_result.scores, \"ko--\")\n",
    "plt.xlabel(\"Iteration\")\n",
    "plt.ylabel(\"Negative log-likelihood\")\n",
    "plt.grid(alpha=0.25)\n",
    "plt.show()"
   ]
  },
  {
   "cell_type": "code",
   "execution_count": 6,
   "id": "94412310",
   "metadata": {},
   "outputs": [
    {
     "name": "stdout",
     "output_type": "stream",
     "text": [
      "   ╭╴A/Denmark/107/2003|EU103941|2003|Denmark||H3N2/1-1409\n",
      "   │ ╭╴A/Canterbury/58/2000|CY009150|09/05/2000|New_Zealand||H3N2/8-1416\n",
      "   │ │       ╭╴A/DaNang/DN434/2008|CY104616|11/11/2008|Viet_Nam||H3N2/4-1412\n",
      "   │ │       │   ╭─┬╴A/Oregon/15/2009|GQ895004|06/25/2009|USA|08_09|H3N2/1-1409\n",
      " ╭─┤ │       │   │ ╰╴A/Hong_Kong/H090_695_V10/2009|CY115546|07/10/2009|Hong_Kong||H3N2/8-1416\n",
      " │ │ │       │   │     ╭─┬╴A/Nebraska/15/2011|KC892583|12/15/2011|USA|11_12|H3N2/1-1409\n",
      " │ │ │     ╭─┤   │     │ ╰╴A/Maryland/21/2011|KC892695|12/26/2011|USA|11_12|H3N2/1-1409\n",
      " │ │ │     │ │ ╭─┤   ╭─┤   ╭─┬╴A/Maryland/03/2013|KF789621|02/10/2013|USA|12_13|H3N2/1-1409\n",
      " │ ╰─┤     │ │ │ │   │ │ ╭─┤ ╰╴A/New_Hampshire/12/2012|KF790252|11/08/2012|USA|12_13|H3N2/1-1409\n",
      " │   │     │ │ │ │ ╭─┤ ╰─┤ ╰─┬╴A/Boston/DOA2_107/2012|CY148382|11/01/2012|USA|12_13|H3N2/1-1409\n",
      " │   │   ╭─┤ ╰─┤ │ │ │   │   ╰╴A/Hawaii/02/2013|KF789866|05/28/2013|USA|12_13|H3N2/1-1409\n",
      "─┤   │   │ │   │ ╰─┤ │   ╰╴A/Indiana/03/2012|KC892731|04/03/2012|USA|11_12|H3N2/1-1409\n",
      " │   │   │ │   │   │ ╰╴A/Peru/PER247/2011|CY162234|08/26/2011|Peru||H3N2/8-1416\n",
      " │   │ ╭─┤ │   │   ╰╴A/Minab/797/2011|KC865620|12/24/2011|Iran||H3N2/20-1428\n",
      " │   │ │ │ │   ╰╴A/Boston/57/2008|CY044710|02/24/2008|USA|07_08|H3N2/1-1409\n",
      " │   ╰─┤ │ ╰╴A/Managua/25/2007|CY032439|06/27/2007|Nicaragua||H3N2/1-1409\n",
      " │     │ ╰╴A/Mexico/InDRE940/2003|CY100628|2003|Mexico||H3N2/15-1423\n",
      " │     ╰╴A/New_York/182/2000|CY001279|02/18/2000|USA|99_00|H3N2/1-1409\n",
      " ╰╴A/Scotland/76/2003|CY088128|11/03/2003|United_Kingdom|03_04|H3N2/1-1409\n"
     ]
    }
   ],
   "source": [
    "hc_newick = p2v.to_newick(hc_result.best)\n",
    "\n",
    "hc_newick_with_taxa = apply_label_mapping(hc_newick, hc_result.label_mapping)\n",
    "\n",
    "print(Tree(hc_newick_with_taxa))"
   ]
  },
  {
   "cell_type": "markdown",
   "id": "c7de1d99",
   "metadata": {},
   "source": [
    "## 2. GradME\n",
    "\n",
    "GradME constitutes an attempt to perform continuous phylogenetic inference using gradient descent and balanced minimum evolution (for a review, see [here](https://doi.org/10.1016/j.ejor.2021.08.004)), thus implying that GradME tries to minimise the path length of the tree.\n",
    "\n",
    "It involves a continuous tree representation based on `ordered` Phylo2Vec trees, with a matrix W of shape ($n-1, n-1$) for a tree of $n$ leaves. For $i \\in [0, n-1], j \\in [0, n-1], W_{ij} = P(v_i = j)$, where $v$ a Phylo2Vec vector.\n",
    "\n",
    "Given the Phylo2Vec constraints, $W$ is a lower-triangular, stochastic matrix (row sum to 1). The most likely single tree from W can be obtained by take the column-wise argmax: ```v = W.argmax(1)```.\n",
    "\n",
    "To improve search, GradME also relies on `Queue Shuffle`, a taxon reordering algorithm to allow for full tree space exploration.\n",
    "\n",
    "For more details, see the paper: <https://doi.org/10.1093/gbe/evad213>\n",
    "\n",
    "From an implementation point of view, GradME is based on `jax` and `optax`. It is thus advised to run it on a GPU to experience speed-ups! The only required argument is `model`, a [substitution model](https://en.wikipedia.org/wiki/Models_of_DNA_evolution) name (as a string)."
   ]
  },
  {
   "cell_type": "code",
   "execution_count": 4,
   "id": "8aeab120",
   "metadata": {},
   "outputs": [
    {
     "name": "stderr",
     "output_type": "stream",
     "text": [
      "INFO:2025-09-18 13:43:07,998:jax._src.xla_bridge:749: Unable to initialize backend 'tpu': INTERNAL: Failed to open libtpu.so: libtpu.so: cannot open shared object file: No such file or directory\n",
      "[2025-09-18 13:43:07,998] Unable to initialize backend 'tpu': INTERNAL: Failed to open libtpu.so: libtpu.so: cannot open shared object file: No such file or directory\n",
      " 16%|█▌        | 16/100 [01:08<05:57,  4.26s/it, Current loss: -2.079899]\n"
     ]
    },
    {
     "name": "stdout",
     "output_type": "stream",
     "text": [
      "Early stopping after 10 iterations without improvement.\n",
      "Optimisation finished in 70.82 seconds with 17 loss evaluations.\n"
     ]
    }
   ],
   "source": [
    "from phylo2vec.opt import GradME\n",
    "\n",
    "# To run the GradME optimizer, we need to specify a substitution model.\n",
    "gradme = GradME(model=\"F81\", solver=\"adabelief\", patience=10, learning_rate=0.1, tol=1e-10, verbose=True, nesterov=True)\n",
    "\n",
    "gradme_result = gradme.fit(fasta_path)"
   ]
  },
  {
   "cell_type": "markdown",
   "id": "039922d6",
   "metadata": {},
   "source": [
    "`gradme_result` contains several objects:\n",
    " * the best topology\n",
    " * a label_mapping to convert the tree back to a Newick with taxon labels\n",
    " * the best score (here, the negative log-likelihood of the best tree)\n",
    " * all scores obtained during the optimisation\n",
    " * the best set of weights (`best_W`) corresponding to a probabilistic ordered tree"
   ]
  },
  {
   "cell_type": "code",
   "execution_count": 5,
   "id": "256caad2",
   "metadata": {},
   "outputs": [
    {
     "data": {
      "image/png": "[encoded data removed]",
      "text/plain": [
       "<Figure size 640x480 with 1 Axes>"
      ]
     },
     "metadata": {},
     "output_type": "display_data"
    }
   ],
   "source": [
    "plt.plot(np.exp(gradme_result.scores), \"bo--\")\n",
    "plt.xlabel(\"Iteration\")\n",
    "plt.ylabel(\"Path length of the best tree\")\n",
    "plt.grid(alpha=0.25)\n",
    "plt.show()"
   ]
  },
  {
   "cell_type": "code",
   "execution_count": 6,
   "id": "28072223",
   "metadata": {},
   "outputs": [
    {
     "name": "stdout",
     "output_type": "stream",
     "text": [
      "       ╭╴A/Boston/57/2008|CY044710|02/24/2008|USA|07_08|H3N2/1-1409\n",
      "     ╭─┤ ╭─┬╴A/Oregon/15/2009|GQ895004|06/25/2009|USA|08_09|H3N2/1-1409\n",
      "     │ ╰─┤ ╰╴A/Hong_Kong/H090_695_V10/2009|CY115546|07/10/2009|Hong_Kong||H3N2/8-1416\n",
      "     │   │ ╭╴A/Minab/797/2011|KC865620|12/24/2011|Iran||H3N2/20-1428\n",
      "     │   ╰─┤ ╭╴A/Peru/PER247/2011|CY162234|08/26/2011|Peru||H3N2/8-1416\n",
      "     │     ╰─┤ ╭─┬╴A/Maryland/21/2011|KC892695|12/26/2011|USA|11_12|H3N2/1-1409\n",
      "   ╭─┤       ╰─┤ ╰╴A/Nebraska/15/2011|KC892583|12/15/2011|USA|11_12|H3N2/1-1409\n",
      "   │ │         │ ╭╴A/Indiana/03/2012|KC892731|04/03/2012|USA|11_12|H3N2/1-1409\n",
      "   │ │         ╰─┤ ╭╴A/New_Hampshire/12/2012|KF790252|11/08/2012|USA|12_13|H3N2/1-1409\n",
      "   │ │           ╰─┤ ╭─┬╴A/Boston/DOA2_107/2012|CY148382|11/01/2012|USA|12_13|H3N2/1-1409\n",
      " ╭─┤ │             ╰─┤ ╰╴A/Hawaii/02/2013|KF789866|05/28/2013|USA|12_13|H3N2/1-1409\n",
      " │ │ │               ╰╴A/Maryland/03/2013|KF789621|02/10/2013|USA|12_13|H3N2/1-1409\n",
      " │ │ ╰╴A/DaNang/DN434/2008|CY104616|11/11/2008|Viet_Nam||H3N2/4-1412\n",
      " │ │ ╭╴A/Mexico/InDRE940/2003|CY100628|2003|Mexico||H3N2/15-1423\n",
      "─┤ ╰─┤ ╭─┬╴A/New_York/182/2000|CY001279|02/18/2000|USA|99_00|H3N2/1-1409\n",
      " │   ╰─┤ ╰╴A/Canterbury/58/2000|CY009150|09/05/2000|New_Zealand||H3N2/8-1416\n",
      " │     ╰─┬╴A/Scotland/76/2003|CY088128|11/03/2003|United_Kingdom|03_04|H3N2/1-1409\n",
      " │       ╰╴A/Denmark/107/2003|EU103941|2003|Denmark||H3N2/1-1409\n",
      " ╰╴A/Managua/25/2007|CY032439|06/27/2007|Nicaragua||H3N2/1-1409\n"
     ]
    }
   ],
   "source": [
    "gradme_newick = p2v.to_newick(np.asarray(gradme_result.best))\n",
    "\n",
    "gradme_newick_with_taxa = apply_label_mapping(gradme_newick, gradme_result.label_mapping)\n",
    "\n",
    "print(Tree(gradme_newick_with_taxa))"
   ]
  },
  {
   "cell_type": "code",
   "execution_count": 7,
   "id": "74fc53c7",
   "metadata": {},
   "outputs": [
    {
     "data": {
      "text/plain": [
       "<Axes: >"
      ]
     },
     "execution_count": 7,
     "metadata": {},
     "output_type": "execute_result"
    },
    {
     "data": {
      "image/png": "[encoded data removed]",
      "text/plain": [
       "<Figure size 640x480 with 2 Axes>"
      ]
     },
     "metadata": {},
     "output_type": "display_data"
    }
   ],
   "source": [
    "sns.heatmap(\n",
    "    gradme_result.best_W,\n",
    "    cmap=\"Reds\",\n",
    "    mask=np.triu(np.ones_like(gradme_result.best_W, dtype=bool), k=1)\n",
    ")"
   ]
  }
 ],
 "metadata": {
  "kernelspec": {
   "display_name": "phylo",
   "language": "python",
   "name": "python3"
  },
  "language_info": {
   "codemirror_mode": {
    "name": "ipython",
    "version": 3
   },
   "file_extension": ".py",
   "mimetype": "text/x-python",
   "name": "python",
   "nbconvert_exporter": "python",
   "pygments_lexer": "ipython3",
   "version": "3.10.10"
  }
 },
 "nbformat": 4,
 "nbformat_minor": 5
}
