{
 "cells": [
  {
   "cell_type": "markdown",
   "metadata": {},
   "source": [
    "# Phylo2Vec demo\n",
    "\n",
    "Welcome to the Phylo2Vec demo! Here, we will quickly visit the main functions of Phylo2Vec, including:\n",
    "* How to sample random tree topologies (cladograms) as Phylo2Vec vectors\n",
    "* How to convert Phylo2Vec vectors to Newick format and vice versa\n",
    "* How to sample random trees with branch lengths (phylograms) as Phylo2Vec matrices\n",
    "* How to convert these matrices to Newick format and vice versa\n",
    "* Other useful operations on Phylo2Vec vectors\n",
    "\n",
    "Note that the current version of Phylo2Vec (29/04/2025) relies on a core written in Rust, with bindings to Python and R. This comes with significant speed-ups, allowing manipulation large trees (up to ~100,000 to 1 million leaves). To become more familiar with Rust, we recommend this [interactive book](https://rust-book.cs.brown.edu/experiment-intro.html)."
   ]
  },
  {
   "cell_type": "markdown",
   "metadata": {},
   "source": [
    "## 1. Imports\n",
    "\n",
    "### 1.1. Rust core\n",
    "\n",
    "* Currently, most functions of Phylo2Vec are written in Rust. There are many reasons to like Rust that make it desirable for this project, especially its speed, type and memory safety, and portability to other high-level languages like Python and R.  \n",
    "* Most functions written in Rust are available in Python (and soon in R) via [PyO3](https://pyo3.rs/v0.24.2/) which provides Rust bindings for Python (via a module called here ```_phylo2vec_core```). Thus, most Python functions consist in thin wrappers of the Rust functions.\n",
    "\n",
    "### 1.2. Other dependencies\n",
    "\n",
    "* The Python side of Phylo2Vec doesn't require many dependencies, excepting [NumPy](https://numpy.org/) and [numba](https://numba.pydata.org/) for array manipulations. Here, we will also use [ete](https://github.com/etetoolkit/ete), a useful Python toolkit for tree manipulation and visualisation."
   ]
  },
  {
   "cell_type": "code",
   "execution_count": 1,
   "metadata": {},
   "outputs": [],
   "source": [
    "import os\n",
    "\n",
    "import numpy as np\n",
    "\n",
    "from ete3 import Tree\n",
    "\n",
    "# To run the notebook here, we need to change the working directory\n",
    "# to py-phylo2vec, which is the parent directory of the Python package.\n",
    "os.chdir(\"../py-phylo2vec\")\n",
    "\n",
    "import phylo2vec._phylo2vec_core as core"
   ]
  },
  {
   "cell_type": "markdown",
   "metadata": {},
   "source": [
    "## 2. Core functions"
   ]
  },
  {
   "cell_type": "markdown",
   "metadata": {},
   "source": [
    "### 2.1. Sampling a random tree\n",
    "\n",
    "Use ```sample_vector``` to sample a random tree topology. This function takes two arguments:\n",
    "* ```n_leaves```, the desired number of leaves/tips in the tree\n",
    "* ```ordered```, a boolean to sample _ordered_ or _unordered_ trees. This notion was introduced in our [published article](https://doi.org/10.1093/sysbio/syae030) ([preprint](https://arxiv.org/abs/2304.12693)) - a brief summary is described below:\n",
    "\n",
    "| Characteristic             | **Ordered**                   | **Unordered**                  |\n",
    "|----------------------------|-------------------------------|--------------------------------|\n",
    "| Constraint                 | ```v[i]``` $\\in \\{0, 1, \\ldots, i\\}$ | ```v[i]``` $\\in \\{0, 1, \\ldots, 2i\\}$ |\n",
    "| Description                | Similar to birth processes    | Bijection of binary tree space |\n",
    "| Meaning of ```v[i]```      | leaf that forms a cherry with leaf $i$ at iteration $i$  | branch that splits and yields leaf $i$ at iteration $i$ |\n"
   ]
  },
  {
   "cell_type": "code",
   "execution_count": 4,
   "metadata": {},
   "outputs": [
    {
     "name": "stdout",
     "output_type": "stream",
     "text": [
      "\u001b[0;31mSignature:\u001b[0m \u001b[0msample_vector\u001b[0m\u001b[0;34m(\u001b[0m\u001b[0mn_leaves\u001b[0m\u001b[0;34m:\u001b[0m \u001b[0mint\u001b[0m\u001b[0;34m,\u001b[0m \u001b[0mordered\u001b[0m\u001b[0;34m:\u001b[0m \u001b[0mbool\u001b[0m \u001b[0;34m=\u001b[0m \u001b[0;32mFalse\u001b[0m\u001b[0;34m)\u001b[0m \u001b[0;34m->\u001b[0m \u001b[0mnumpy\u001b[0m\u001b[0;34m.\u001b[0m\u001b[0mndarray\u001b[0m\u001b[0;34m\u001b[0m\u001b[0;34m\u001b[0m\u001b[0m\n",
      "\u001b[0;31mDocstring:\u001b[0m\n",
      "Sample a random tree via Phylo2Vec, in vector form.\n",
      "\n",
      "Parameters\n",
      "----------\n",
      "n_leaves : int\n",
      "    Number of leaves\n",
      "ordered : bool, optional\n",
      "    If True, sample an ordered tree, by default False\n",
      "\n",
      "    True:\n",
      "    v_i in {0, 1, ..., i} for i in (0, n_leaves-1)\n",
      "\n",
      "    False:\n",
      "    v_i in {0, 1, ..., 2*i} for i in (0, n_leaves-1)\n",
      "\n",
      "Returns\n",
      "-------\n",
      "numpy.ndarray\n",
      "    Phylo2Vec vector\n",
      "\u001b[0;31mFile:\u001b[0m      ~/src/phylo2vec/public_fork2/py-phylo2vec/phylo2vec/utils/vector.py\n",
      "\u001b[0;31mType:\u001b[0m      function"
     ]
    }
   ],
   "source": [
    "from phylo2vec import sample_vector\n",
    "\n",
    "sample_vector?"
   ]
  },
  {
   "cell_type": "code",
   "execution_count": 3,
   "metadata": {},
   "outputs": [
    {
     "name": "stdout",
     "output_type": "stream",
     "text": [
      "array([0, 0, 1, 5, 8, 5])\n"
     ]
    }
   ],
   "source": [
    "v = sample_vector(n_leaves=7)\n",
    "\n",
    "print(repr(v))"
   ]
  },
  {
   "cell_type": "code",
   "execution_count": 4,
   "metadata": {},
   "outputs": [
    {
     "name": "stdout",
     "output_type": "stream",
     "text": [
      "array([0, 0, 0, 2, 2, 2])\n"
     ]
    }
   ],
   "source": [
    "v_ordered = sample_vector(n_leaves=7, ordered=True)\n",
    "\n",
    "print(repr(v_ordered))"
   ]
  },
  {
   "cell_type": "markdown",
   "metadata": {},
   "source": [
    "To check that a vector is valid according to the Phylo2Vec formulation, use ```check_vector```."
   ]
  },
  {
   "cell_type": "code",
   "execution_count": 5,
   "metadata": {},
   "outputs": [
    {
     "name": "stdout",
     "output_type": "stream",
     "text": [
      "\u001b[0;31mSignature:\u001b[0m \u001b[0mcheck_vector\u001b[0m\u001b[0;34m(\u001b[0m\u001b[0mv\u001b[0m\u001b[0;34m:\u001b[0m \u001b[0mnumpy\u001b[0m\u001b[0;34m.\u001b[0m\u001b[0mndarray\u001b[0m\u001b[0;34m)\u001b[0m \u001b[0;34m->\u001b[0m \u001b[0;32mNone\u001b[0m\u001b[0;34m\u001b[0m\u001b[0;34m\u001b[0m\u001b[0m\n",
      "\u001b[0;31mDocstring:\u001b[0m\n",
      "Input validation of a Phylo2Vec vector\n",
      "\n",
      "The input is checked to satisfy the Phylo2Vec constraints\n",
      "\n",
      "Parameters\n",
      "----------\n",
      "v : numpy.ndarray\n",
      "    Phylo2Vec vector\n",
      "\u001b[0;31mFile:\u001b[0m      ~/src/phylo2vec/public_fork2/py-phylo2vec/phylo2vec/utils/vector.py\n",
      "\u001b[0;31mType:\u001b[0m      function"
     ]
    }
   ],
   "source": [
    "from phylo2vec.utils.vector import check_vector\n",
    "\n",
    "check_vector?"
   ]
  },
  {
   "cell_type": "code",
   "execution_count": 6,
   "metadata": {},
   "outputs": [
    {
     "name": "stderr",
     "output_type": "stream",
     "text": [
      "thread '<unnamed>' panicked at phylo2vec/src/utils.rs:140:5:\n",
      "Validation failed: v[5] = 11 is out of bounds (max = 10)\n",
      "note: run with `RUST_BACKTRACE=1` environment variable to display a backtrace\n"
     ]
    },
    {
     "ename": "PanicException",
     "evalue": "Validation failed: v[5] = 11 is out of bounds (max = 10)",
     "output_type": "error",
     "traceback": [
      "\u001b[0;31m---------------------------------------------------------------------------\u001b[0m",
      "\u001b[0;31mPanicException\u001b[0m                            Traceback (most recent call last)",
      "Cell \u001b[0;32mIn[6], line 7\u001b[0m\n\u001b[1;32m      3\u001b[0m v_awkward \u001b[38;5;241m=\u001b[39m v\u001b[38;5;241m.\u001b[39mcopy()\n\u001b[1;32m      5\u001b[0m v_awkward[\u001b[38;5;241m5\u001b[39m] \u001b[38;5;241m=\u001b[39m \u001b[38;5;241m11\u001b[39m\n\u001b[0;32m----> 7\u001b[0m \u001b[43mcheck_vector\u001b[49m\u001b[43m(\u001b[49m\u001b[43mv_awkward\u001b[49m\u001b[43m)\u001b[49m \u001b[38;5;66;03m# AssertionError\u001b[39;00m\n",
      "File \u001b[0;32m~/src/phylo2vec/public_fork2/py-phylo2vec/phylo2vec/utils/vector.py:25\u001b[0m, in \u001b[0;36mcheck_vector\u001b[0;34m(v)\u001b[0m\n\u001b[1;32m     15\u001b[0m \u001b[38;5;28;01mdef\u001b[39;00m \u001b[38;5;21mcheck_vector\u001b[39m(v: np\u001b[38;5;241m.\u001b[39mndarray) \u001b[38;5;241m-\u001b[39m\u001b[38;5;241m>\u001b[39m \u001b[38;5;28;01mNone\u001b[39;00m:\n\u001b[1;32m     16\u001b[0m \u001b[38;5;250m    \u001b[39m\u001b[38;5;124;03m\"\"\"Input validation of a Phylo2Vec vector\u001b[39;00m\n\u001b[1;32m     17\u001b[0m \n\u001b[1;32m     18\u001b[0m \u001b[38;5;124;03m    The input is checked to satisfy the Phylo2Vec constraints\u001b[39;00m\n\u001b[0;32m   (...)\u001b[0m\n\u001b[1;32m     23\u001b[0m \u001b[38;5;124;03m        Phylo2Vec vector\u001b[39;00m\n\u001b[1;32m     24\u001b[0m \u001b[38;5;124;03m    \"\"\"\u001b[39;00m\n\u001b[0;32m---> 25\u001b[0m     \u001b[43mcore\u001b[49m\u001b[38;5;241;43m.\u001b[39;49m\u001b[43mcheck_v\u001b[49m\u001b[43m(\u001b[49m\u001b[43mv\u001b[49m\u001b[38;5;241;43m.\u001b[39;49m\u001b[43mtolist\u001b[49m\u001b[43m(\u001b[49m\u001b[43m)\u001b[49m\u001b[43m)\u001b[49m\n",
      "\u001b[0;31mPanicException\u001b[0m: Validation failed: v[5] = 11 is out of bounds (max = 10)"
     ]
    }
   ],
   "source": [
    "check_vector(v) # returns None\n",
    "\n",
    "v_awkward = v.copy()\n",
    "\n",
    "v_awkward[5] = 11\n",
    "\n",
    "check_vector(v_awkward) # AssertionError"
   ]
  },
  {
   "cell_type": "markdown",
   "metadata": {},
   "source": [
    "### 2.2 Converting a vector to a Newick string\n",
    "\n",
    "Use ```to_newick``` to convert a vector to a Newick string."
   ]
  },
  {
   "cell_type": "code",
   "execution_count": 7,
   "metadata": {},
   "outputs": [
    {
     "name": "stdout",
     "output_type": "stream",
     "text": [
      "\u001b[0;31mSignature:\u001b[0m \u001b[0mto_newick\u001b[0m\u001b[0;34m(\u001b[0m\u001b[0mvector_or_matrix\u001b[0m\u001b[0;34m:\u001b[0m \u001b[0mnumpy\u001b[0m\u001b[0;34m.\u001b[0m\u001b[0mndarray\u001b[0m\u001b[0;34m)\u001b[0m \u001b[0;34m->\u001b[0m \u001b[0mstr\u001b[0m\u001b[0;34m\u001b[0m\u001b[0;34m\u001b[0m\u001b[0m\n",
      "\u001b[0;31mDocstring:\u001b[0m\n",
      "Convert a Phylo2Vec vector or matrix to Newick format\n",
      "\n",
      "Parameters\n",
      "----------\n",
      "vector_or_matrix : numpy.array\n",
      "    Phylo2Vec vector (ndim == 1)/matrix (ndim == 2)\n",
      "\n",
      "Returns\n",
      "-------\n",
      "newick : str\n",
      "    Newick tree\n",
      "\u001b[0;31mFile:\u001b[0m      ~/src/phylo2vec/public_fork2/py-phylo2vec/phylo2vec/base/newick.py\n",
      "\u001b[0;31mType:\u001b[0m      function"
     ]
    }
   ],
   "source": [
    "from phylo2vec import to_newick\n",
    "\n",
    "to_newick?"
   ]
  },
  {
   "cell_type": "code",
   "execution_count": 8,
   "metadata": {},
   "outputs": [
    {
     "data": {
      "text/plain": [
       "'((((0,2)9,4)10,(1,3)8)11,(5,6)7)12;'"
      ]
     },
     "execution_count": 8,
     "metadata": {},
     "output_type": "execute_result"
    }
   ],
   "source": [
    "newick = to_newick(v)\n",
    "\n",
    "newick"
   ]
  },
  {
   "cell_type": "markdown",
   "metadata": {},
   "source": [
    "Under the hood, ```to_newick``` performs two operations. ```get_pairs``` and ```_build_newick```.\n",
    "\n",
    "```get_pairs``` produces an ordered list of pairs of leaves from the vector (as a post-order traversal), making use of [AVL trees](https://en.wikipedia.org/wiki/AVL_tree). Each element corresponds to a cherry with its parental node: [children1, children2, parent].\n",
    "\n",
    "In this example, we have that:\n",
    "* leaves (1, 6) form a first cherry → 1 = min(1, 6) so leaf 1 is the representative of that cherry\n",
    "* leaves (4, 5) form a second cherry → 4 = min(4, 5) so leaf 4 is the representative of that cherry\n",
    "* leaves (2, 3) form a third cherry → 2 = min(2, 3) so leaf 2 is the representative of that cherry\n",
    "* (0, 1): 1 was already visited in the first cherry, so leaf 0 forms a cherry with the parent of leaf 1\n",
    "* (0, 4): both were already visited, so the parents of leaf 0 and leaf 4 form a cherry\n",
    "* (0, 2): both were already visited, to the parents of leaf 0 and leaf 2 form a cherry"
   ]
  },
  {
   "cell_type": "code",
   "execution_count": 38,
   "metadata": {},
   "outputs": [
    {
     "data": {
      "text/plain": [
       "[(1, 6), (4, 5), (2, 3), (0, 1), (0, 4), (0, 2)]"
      ]
     },
     "execution_count": 38,
     "metadata": {},
     "output_type": "execute_result"
    }
   ],
   "source": [
    "v_fixed = np.array([0, 2, 2, 5, 4, 1])\n",
    "\n",
    "pairs = core.get_pairs(v_fixed)\n",
    "\n",
    "pairs"
   ]
  },
  {
   "cell_type": "markdown",
   "metadata": {},
   "source": [
    "```build_newick``` takes the list of pairs and forms a Newick string (with internal labels (or \"parents\"))"
   ]
  },
  {
   "cell_type": "code",
   "execution_count": 39,
   "metadata": {},
   "outputs": [
    {
     "data": {
      "text/plain": [
       "'(((0,(1,6)7)10,(4,5)8)11,(2,3)9)12;'"
      ]
     },
     "execution_count": 39,
     "metadata": {},
     "output_type": "execute_result"
    }
   ],
   "source": [
    "newick_fixed = core.build_newick(pairs)\n",
    "\n",
    "newick_fixed2 = to_newick(v_fixed)\n",
    "\n",
    "assert newick_fixed == newick_fixed2  # should be the same\n",
    "\n",
    "newick_fixed2"
   ]
  },
  {
   "cell_type": "markdown",
   "metadata": {},
   "source": [
    "For visualisation purposes, we can plot the tree using ete3\n",
    "\n",
    "We observe the same \"cherries\" as described above: \n",
    "* (1, 6), which merges with 0\n",
    "* (4, 5), which then merges with the subtree (0,(1,6))\n",
    "* (2, 3), which then merges with the subtree ((0,(1,6)),(4,5))"
   ]
  },
  {
   "cell_type": "code",
   "execution_count": 40,
   "metadata": {},
   "outputs": [
    {
     "name": "stdout",
     "output_type": "stream",
     "text": [
      "\n",
      "         /-0\n",
      "      /-|\n",
      "     |  |   /-1\n",
      "     |   \\-|\n",
      "   /-|      \\-6\n",
      "  |  |\n",
      "  |  |   /-4\n",
      "--|   \\-|\n",
      "  |      \\-5\n",
      "  |\n",
      "  |   /-2\n",
      "   \\-|\n",
      "      \\-3\n"
     ]
    }
   ],
   "source": [
    "def plot_tree(newick):\n",
    "    print(Tree(newick))\n",
    "\n",
    "plot_tree(newick_fixed)"
   ]
  },
  {
   "cell_type": "markdown",
   "metadata": {},
   "source": [
    "### 2.3 Converting a Newick to a vector\n",
    "\n",
    "Use ```from_newick``` to convert a vector to a Newick string."
   ]
  },
  {
   "cell_type": "code",
   "execution_count": 12,
   "metadata": {},
   "outputs": [
    {
     "name": "stdout",
     "output_type": "stream",
     "text": [
      "\u001b[0;31mSignature:\u001b[0m \u001b[0mfrom_newick\u001b[0m\u001b[0;34m(\u001b[0m\u001b[0mnewick\u001b[0m\u001b[0;34m:\u001b[0m \u001b[0mstr\u001b[0m\u001b[0;34m)\u001b[0m \u001b[0;34m->\u001b[0m \u001b[0mnumpy\u001b[0m\u001b[0;34m.\u001b[0m\u001b[0mndarray\u001b[0m\u001b[0;34m\u001b[0m\u001b[0;34m\u001b[0m\u001b[0m\n",
      "\u001b[0;31mDocstring:\u001b[0m\n",
      "Convert a Newick string to a Phylo2Vec vector or matrix\n",
      "\n",
      "Parameters\n",
      "----------\n",
      "newick : str\n",
      "    Newick string for a tree\n",
      "\n",
      "Returns\n",
      "-------\n",
      "numpy.ndarray\n",
      "    Phylo2Vec matrix is branch lengths are present, otherwise a vector\n",
      "\u001b[0;31mFile:\u001b[0m      ~/src/phylo2vec/public_fork2/py-phylo2vec/phylo2vec/base/newick.py\n",
      "\u001b[0;31mType:\u001b[0m      function"
     ]
    }
   ],
   "source": [
    "from phylo2vec import from_newick\n",
    "\n",
    "from_newick?"
   ]
  },
  {
   "cell_type": "code",
   "execution_count": 13,
   "metadata": {},
   "outputs": [
    {
     "name": "stdout",
     "output_type": "stream",
     "text": [
      "v (sampled): array([0, 2, 3, 4, 1, 8])\n",
      "newick: (((((0,(1,5)7)8,4)9,6)10,3)11,2)12;\n",
      "v (convert): array([0, 2, 3, 4, 1, 8])\n"
     ]
    }
   ],
   "source": [
    "# Let's generate a new v with 7 leaves using sample\n",
    "v7 = sample_vector(7)\n",
    "print(f\"v (sampled): {repr(v7)}\")\n",
    "\n",
    "newick7 = to_newick(v7)\n",
    "print(f\"newick: {newick7}\")\n",
    "\n",
    "v7_new = from_newick(newick7)\n",
    "print(f\"v (convert): {repr(v7_new)}\")\n",
    "\n",
    "assert np.array_equal(v7, v7_new)  # should be the same"
   ]
  },
  {
   "cell_type": "markdown",
   "metadata": {},
   "source": [
    "We can also convert Newick strings without parent labels. Several functions are provided in ```phylo2vec.utils.newick``` to process Newick strings."
   ]
  },
  {
   "cell_type": "code",
   "execution_count": 14,
   "metadata": {},
   "outputs": [
    {
     "name": "stdout",
     "output_type": "stream",
     "text": [
      "Newick with parent labels: (((((0,(1,5)7)8,4)9,6)10,3)11,2)12;\n",
      "Newick without parent labels: (((((0,(1,5)),4),6),3),2);\n",
      "v (converted without parents): array([0, 2, 3, 4, 1, 8])\n"
     ]
    }
   ],
   "source": [
    "from phylo2vec.utils.newick import remove_parent_labels\n",
    "\n",
    "newick7_no_parent = remove_parent_labels(newick7)\n",
    "\n",
    "print(f\"Newick with parent labels: {newick7}\")\n",
    "print(f\"Newick without parent labels: {newick7_no_parent}\")\n",
    "\n",
    "v7_no_parent = from_newick(newick7_no_parent)\n",
    "print(f\"v (converted without parents): {repr(v7_new)}\")\n",
    "\n",
    "assert np.array_equal(v7, v7_no_parent)  # should be the same"
   ]
  },
  {
   "cell_type": "markdown",
   "metadata": {},
   "source": [
    "### 2.4 Matrix form\n",
    "\n",
    "* Newick strings can also have branch lengths, so it is also desirable to store not only the topology (which the core Phylo2Vec does), but also the branch lengths\n",
    "\n",
    "In this setup:\n",
    " * The 1st column is v[i] (i.e., the Phylo2Vec vector)\n",
    " * The 2nd and 3rd columns are the branch lengths of cherry in the ancestry matrix\n",
    "\n",
    "Under the hood, ```from_newick``` checks whether the Newick string has branch lengths or not, and ```to_newick``` checks whether the input is a vector or a matrix, and performs the conversion. So we can use the same functions as before!"
   ]
  },
  {
   "cell_type": "code",
   "execution_count": 17,
   "metadata": {},
   "outputs": [],
   "source": [
    "from phylo2vec import sample_matrix"
   ]
  },
  {
   "cell_type": "code",
   "execution_count": 16,
   "metadata": {},
   "outputs": [
    {
     "name": "stdout",
     "output_type": "stream",
     "text": [
      "m (sampled): array([[0.        , 0.27507809, 0.65492588],\n",
      "       [0.        , 0.16556533, 0.07021012],\n",
      "       [3.        , 0.9721505 , 0.06527178],\n",
      "       [0.        , 0.39419627, 0.96055424]])\n"
     ]
    }
   ],
   "source": [
    "# Let's sample another v\n",
    "\n",
    "n_leaves = 5\n",
    "\n",
    "m5 = sample_matrix(n_leaves)\n",
    "\n",
    "print(f\"m (sampled): {repr(m5)}\")"
   ]
  },
  {
   "cell_type": "code",
   "execution_count": 17,
   "metadata": {},
   "outputs": [
    {
     "name": "stdout",
     "output_type": "stream",
     "text": [
      "((((0:0.2750781,4:0.6549259)5:0.16556533,2:0.07021012)6:0.9721505,3:0.06527178)7:0.39419627,1:0.96055424)8;\n"
     ]
    }
   ],
   "source": [
    "newick_with_bls = to_newick(m5)\n",
    "\n",
    "print(newick_with_bls)"
   ]
  },
  {
   "cell_type": "code",
   "execution_count": 18,
   "metadata": {},
   "outputs": [],
   "source": [
    "m5_other = from_newick(newick_with_bls)\n",
    "\n",
    "assert np.array_equal(m5, m5_other)  # should be the same"
   ]
  },
  {
   "cell_type": "markdown",
   "metadata": {},
   "source": [
    "## 3. Other utility functions\n",
    "\n",
    "### 3.1. Metrics\n",
    "\n",
    "We believe it is possible to implement a wide variety of metrics pertaining to trees using the Phylo2Vec format.\n",
    "\n",
    "These can be metrics between trees (we evoked calculating a Hamming distance between vectors in the Phylo2Vec paper), but also between leaves within a tree. An example of the latter is the [cophenetic distance](https://en.wikipedia.org/wiki/Cophenetic) (inspired by [ape](https://rdrr.io/cran/ape/man/cophenetic.phylo.html))."
   ]
  },
  {
   "cell_type": "code",
   "execution_count": 5,
   "metadata": {},
   "outputs": [],
   "source": [
    "from phylo2vec.metrics import pairwise_distances"
   ]
  },
  {
   "cell_type": "code",
   "execution_count": 15,
   "metadata": {},
   "outputs": [
    {
     "name": "stdout",
     "output_type": "stream",
     "text": [
      "vector:\n",
      "array([ 0,  2,  0,  0,  3, 10,  4,  7, 13])\n",
      "Cophenetic distance matrix (topology):\n",
      "[[0 5 6 4 3 4 7 4 4 4]\n",
      " [5 0 3 5 6 5 4 7 7 3]\n",
      " [6 3 0 6 7 6 3 8 8 4]\n",
      " [4 5 6 0 5 2 7 6 6 4]\n",
      " [3 6 7 5 0 5 8 3 3 5]\n",
      " [4 5 6 2 5 0 7 6 6 4]\n",
      " [7 4 3 7 8 7 0 9 9 5]\n",
      " [4 7 8 6 3 6 9 0 2 6]\n",
      " [4 7 8 6 3 6 9 2 0 6]\n",
      " [4 3 4 4 5 4 5 6 6 0]]\n"
     ]
    }
   ],
   "source": [
    "np.set_printoptions(linewidth=1000)\n",
    "\n",
    "v10 = sample_vector(n_leaves=10)\n",
    "\n",
    "print(f\"vector:\\n{repr(v10)}\")\n",
    "\n",
    "print(f\"Cophenetic distance matrix (topology):\\n{pairwise_distances(v10, metric='cophenetic')}\")"
   ]
  },
  {
   "cell_type": "code",
   "execution_count": 21,
   "metadata": {},
   "outputs": [
    {
     "name": "stdout",
     "output_type": "stream",
     "text": [
      "matrix:\n",
      "array([[ 0.        ,  0.21036763,  0.58039254],\n",
      "       [ 0.        ,  0.22874835,  0.5873965 ],\n",
      "       [ 4.        ,  0.71927387,  0.23656006],\n",
      "       [ 3.        ,  0.04383796,  0.31960505],\n",
      "       [ 5.        ,  0.10017862,  0.5887714 ],\n",
      "       [ 2.        ,  0.23395139,  0.5856393 ],\n",
      "       [ 2.        ,  0.9120419 ,  0.13364407],\n",
      "       [ 1.        ,  0.15698268,  0.4864966 ],\n",
      "       [14.        ,  0.01806001,  0.77705199]])\n",
      "Cophenetic distance matrix (rounded):\n",
      "[[0.    2.    1.768 2.242 2.518 2.687 1.056 2.126 2.37  1.28 ]\n",
      " [2.    0.    3.3   1.636 1.912 2.081 2.588 3.658 0.791 0.987]\n",
      " [1.768 3.3   0.    3.542 3.818 3.987 1.185 0.816 3.67  2.579]\n",
      " [2.242 1.636 3.542 0.    0.363 0.733 2.83  3.9   2.006 1.23 ]\n",
      " [2.518 1.912 3.818 0.363 0.    1.009 3.106 4.176 2.282 1.506]\n",
      " [2.687 2.081 3.987 0.733 1.009 0.    3.275 4.345 2.451 1.675]\n",
      " [1.056 2.588 1.185 2.83  3.106 3.275 0.    1.543 2.958 1.868]\n",
      " [2.126 3.658 0.816 3.9   4.176 4.345 1.543 0.    4.028 2.938]\n",
      " [2.37  0.791 3.67  2.006 2.282 2.451 2.958 4.028 0.    1.358]\n",
      " [1.28  0.987 2.579 1.23  1.506 1.675 1.868 2.938 1.358 0.   ]]\n"
     ]
    }
   ],
   "source": [
    "m10 = sample_matrix(n_leaves=10)\n",
    "\n",
    "print(f\"matrix:\\n{repr(m10)}\")\n",
    "\n",
    "print(\n",
    "    f\"Cophenetic distance matrix (rounded):\\n{pairwise_distances(m10, metric='cophenetic').round(3)}\"\n",
    ")"
   ]
  },
  {
   "cell_type": "markdown",
   "metadata": {},
   "source": [
    "### 3.2 Optimisation\n",
    "\n",
    "In the Phylo2Vec paper, we showcased a hill-climbing optimisation scheme to demonstrate the potential of phylo2vec for maximum likelihood-based phylogenetic inference.\n",
    "\n",
    "These optimisation schemes (to be written in ```opt```) are not thoroughly maintained as difficult to test. One notable goal is to integrate [GradME](https://github.com/Neclow/GradME) into phylo2vec"
   ]
  },
  {
   "cell_type": "markdown",
   "metadata": {},
   "source": [
    "### 3.3 Other utility functions"
   ]
  },
  {
   "cell_type": "markdown",
   "metadata": {},
   "source": [
    "#### 3.3.1 Finding the number of leaves in a Newick"
   ]
  },
  {
   "cell_type": "code",
   "execution_count": 21,
   "metadata": {},
   "outputs": [
    {
     "name": "stdout",
     "output_type": "stream",
     "text": [
      "\u001b[0;31mSignature:\u001b[0m \u001b[0mfind_num_leaves\u001b[0m\u001b[0;34m(\u001b[0m\u001b[0mnewick\u001b[0m\u001b[0;34m:\u001b[0m \u001b[0mstr\u001b[0m\u001b[0;34m)\u001b[0m \u001b[0;34m->\u001b[0m \u001b[0mint\u001b[0m\u001b[0;34m\u001b[0m\u001b[0;34m\u001b[0m\u001b[0m\n",
      "\u001b[0;31mDocstring:\u001b[0m\n",
      "Calculate the number of leaves in a tree from its Newick\n",
      "\n",
      "Parameters\n",
      "----------\n",
      "newick : str\n",
      "    Newick representation of a tree\n",
      "\n",
      "Returns\n",
      "-------\n",
      "int\n",
      "    Number of leaves\n",
      "\u001b[0;31mFile:\u001b[0m      ~/src/phylo2vec/public_fork2/py-phylo2vec/phylo2vec/utils/newick.py\n",
      "\u001b[0;31mType:\u001b[0m      function"
     ]
    }
   ],
   "source": [
    "from phylo2vec.utils.newick import find_num_leaves\n",
    "\n",
    "find_num_leaves?"
   ]
  },
  {
   "cell_type": "code",
   "execution_count": 22,
   "metadata": {},
   "outputs": [],
   "source": [
    "assert find_num_leaves(newick7) == 7"
   ]
  },
  {
   "cell_type": "markdown",
   "metadata": {},
   "source": [
    "#### 3.3.2 Removing and adding a leaf in a tree\n",
    "\n",
    "One might want to prune or add nodes in an existing tree (a common example is the subtree-prune-and-regraft operation).\n",
    "\n",
    "This is not a trivial operation as we need to re-compute the vector (as the number of leaves in the tree will have changed)"
   ]
  },
  {
   "cell_type": "code",
   "execution_count": 23,
   "metadata": {},
   "outputs": [
    {
     "name": "stdout",
     "output_type": "stream",
     "text": [
      "\u001b[0;31mSignature:\u001b[0m \u001b[0mremove_leaf\u001b[0m\u001b[0;34m(\u001b[0m\u001b[0mv\u001b[0m\u001b[0;34m,\u001b[0m \u001b[0mleaf\u001b[0m\u001b[0;34m)\u001b[0m\u001b[0;34m\u001b[0m\u001b[0;34m\u001b[0m\u001b[0m\n",
      "\u001b[0;31mDocstring:\u001b[0m\n",
      "Remove a leaf from a Phylo2Vec v\n",
      "\n",
      "Parameters\n",
      "----------\n",
      "v : numpy.ndarray\n",
      "    Phylo2Vec vector\n",
      "leaf : int\n",
      "    A leaf node to remove\n",
      "\n",
      "Returns\n",
      "-------\n",
      "v_sub : numpy.ndarray\n",
      "    Phylo2Vec vector without `leaf`\n",
      "sister : int\n",
      "    Sister node of leaf\n",
      "\u001b[0;31mFile:\u001b[0m      ~/src/phylo2vec/public_fork2/py-phylo2vec/phylo2vec/utils/vector.py\n",
      "\u001b[0;31mType:\u001b[0m      function"
     ]
    }
   ],
   "source": [
    "from phylo2vec.utils.vector import remove_leaf\n",
    "\n",
    "remove_leaf?"
   ]
  },
  {
   "cell_type": "code",
   "execution_count": 24,
   "metadata": {},
   "outputs": [],
   "source": [
    "leaf = 3\n",
    "\n",
    "v6, sister_leaf = remove_leaf(v7, leaf=leaf)"
   ]
  },
  {
   "cell_type": "code",
   "execution_count": 25,
   "metadata": {},
   "outputs": [
    {
     "name": "stdout",
     "output_type": "stream",
     "text": [
      "\n",
      "               /-0\n",
      "            /-|\n",
      "           |  |   /-1\n",
      "         /-|   \\-|\n",
      "        |  |      \\-5\n",
      "      /-|  |\n",
      "     |  |   \\-4\n",
      "   /-|  |\n",
      "  |  |   \\-6\n",
      "--|  |\n",
      "  |   \\-3\n",
      "  |\n",
      "   \\-2\n",
      "\n",
      "            /-0\n",
      "         /-|\n",
      "        |  |   /-1\n",
      "      /-|   \\-|\n",
      "     |  |      \\-4\n",
      "   /-|  |\n",
      "  |  |   \\-3\n",
      "--|  |\n",
      "  |   \\-5\n",
      "  |\n",
      "   \\-2\n"
     ]
    }
   ],
   "source": [
    "plot_tree(newick7)\n",
    "plot_tree(to_newick(v6))"
   ]
  },
  {
   "cell_type": "code",
   "execution_count": 26,
   "metadata": {},
   "outputs": [
    {
     "name": "stdout",
     "output_type": "stream",
     "text": [
      "\u001b[0;31mSignature:\u001b[0m \u001b[0madd_leaf\u001b[0m\u001b[0;34m(\u001b[0m\u001b[0mv\u001b[0m\u001b[0;34m,\u001b[0m \u001b[0mleaf\u001b[0m\u001b[0;34m,\u001b[0m \u001b[0mpos\u001b[0m\u001b[0;34m)\u001b[0m\u001b[0;34m\u001b[0m\u001b[0;34m\u001b[0m\u001b[0m\n",
      "\u001b[0;31mDocstring:\u001b[0m\n",
      "Add a leaf to a Phylo2Vec vector v\n",
      "\n",
      "Parameters\n",
      "----------\n",
      "v : numpy.ndarray\n",
      "    Phylo2Vec vector\n",
      "leaf : int >= 0\n",
      "    A leaf node to add\n",
      "pos : int >= 0\n",
      "    A branch from where the leaf will be added\n",
      "\n",
      "Returns\n",
      "-------\n",
      "v_add : numpy.ndarray\n",
      "    Phylo2Vec vector including the new leaf\n",
      "\u001b[0;31mFile:\u001b[0m      ~/src/phylo2vec/public_fork2/py-phylo2vec/phylo2vec/utils/vector.py\n",
      "\u001b[0;31mType:\u001b[0m      function"
     ]
    }
   ],
   "source": [
    "from phylo2vec.utils.vector import add_leaf\n",
    "\n",
    "add_leaf?"
   ]
  },
  {
   "cell_type": "code",
   "execution_count": 27,
   "metadata": {},
   "outputs": [
    {
     "data": {
      "text/plain": [
       "True"
      ]
     },
     "execution_count": 27,
     "metadata": {},
     "output_type": "execute_result"
    }
   ],
   "source": [
    "# due to re-labelling in remove_leaf, we have to decrement sister_leaf\n",
    "if sister_leaf >= leaf:\n",
    "    sister_leaf -= 1\n",
    "\n",
    "v_add = add_leaf(v6, leaf=3, pos=sister_leaf)\n",
    "\n",
    "np.array_equal(v_add, v7)"
   ]
  },
  {
   "cell_type": "markdown",
   "metadata": {},
   "source": [
    "#### 3.3.3 Applying and create an integer mapping from a Newick string\n",
    "\n",
    "* Newick strings usually do not contain integers but real-life taxa (e.g., animal species, languages...). So it is important to provide another layer of conversion, where we can take in a Newick with string taxa, and convert it to a Newick with integer taxa, with a unique integer → taxon mapping."
   ]
  },
  {
   "cell_type": "code",
   "execution_count": 28,
   "metadata": {},
   "outputs": [
    {
     "name": "stdout",
     "output_type": "stream",
     "text": [
      "(((aaaaaaaaab,(aaaaaaaaac,aaaaaaaaad)),(aaaaaaaaae,aaaaaaaaaf)),((aaaaaaaaag,aaaaaaaaah),aaaaaaaaaa));\n",
      "\n",
      "         /-aaaaaaaaab\n",
      "      /-|\n",
      "     |  |   /-aaaaaaaaac\n",
      "     |   \\-|\n",
      "   /-|      \\-aaaaaaaaad\n",
      "  |  |\n",
      "  |  |   /-aaaaaaaaae\n",
      "  |   \\-|\n",
      "--|      \\-aaaaaaaaaf\n",
      "  |\n",
      "  |      /-aaaaaaaaag\n",
      "  |   /-|\n",
      "   \\-|   \\-aaaaaaaaah\n",
      "     |\n",
      "      \\-aaaaaaaaaa\n"
     ]
    }
   ],
   "source": [
    "n_leaves = 8\n",
    "\n",
    "t = Tree()\n",
    "t.populate(n_leaves)\n",
    "nw_str = t.write(format=9)\n",
    "\n",
    "print(nw_str)\n",
    "\n",
    "print(t)"
   ]
  },
  {
   "cell_type": "code",
   "execution_count": 29,
   "metadata": {},
   "outputs": [
    {
     "name": "stdout",
     "output_type": "stream",
     "text": [
      "\u001b[0;31mSignature:\u001b[0m \u001b[0mcreate_label_mapping\u001b[0m\u001b[0;34m(\u001b[0m\u001b[0mnewick\u001b[0m\u001b[0;34m)\u001b[0m\u001b[0;34m\u001b[0m\u001b[0;34m\u001b[0m\u001b[0m\n",
      "\u001b[0;31mDocstring:\u001b[0m\n",
      "Create an integer-taxon label mapping (label_mapping)\n",
      "from a string-based newick (where leaves are strings)\n",
      "and produce a mapped integer-based newick (where leaves are integers)\n",
      "this also remove annotations pertaining to parent nodes\n",
      "\n",
      "Parameters\n",
      "----------\n",
      "newick : str\n",
      "    Newick with string labels\n",
      "\n",
      "Returns\n",
      "-------\n",
      "newick_int : str\n",
      "    Newick with integer labels\n",
      "label_mapping : Dict str --> str\n",
      "    Mapping of leaf labels (integers converted to string) to taxa\n",
      "\u001b[0;31mFile:\u001b[0m      ~/src/phylo2vec/public_fork2/py-phylo2vec/phylo2vec/utils/newick.py\n",
      "\u001b[0;31mType:\u001b[0m      function"
     ]
    }
   ],
   "source": [
    "from phylo2vec.utils.newick import create_label_mapping\n",
    "\n",
    "create_label_mapping?"
   ]
  },
  {
   "cell_type": "code",
   "execution_count": 30,
   "metadata": {},
   "outputs": [
    {
     "name": "stdout",
     "output_type": "stream",
     "text": [
      "\n",
      "         /-2\n",
      "      /-|\n",
      "     |  |   /-0\n",
      "     |   \\-|\n",
      "   /-|      \\-1\n",
      "  |  |\n",
      "  |  |   /-3\n",
      "  |   \\-|\n",
      "--|      \\-4\n",
      "  |\n",
      "  |      /-5\n",
      "  |   /-|\n",
      "   \\-|   \\-6\n",
      "     |\n",
      "      \\-7\n",
      "{'0': 'aaaaaaaaac',\n",
      " '1': 'aaaaaaaaad',\n",
      " '2': 'aaaaaaaaab',\n",
      " '3': 'aaaaaaaaae',\n",
      " '4': 'aaaaaaaaaf',\n",
      " '5': 'aaaaaaaaag',\n",
      " '6': 'aaaaaaaaah',\n",
      " '7': 'aaaaaaaaaa'}\n"
     ]
    }
   ],
   "source": [
    "from pprint import pprint\n",
    "\n",
    "nw_int, label_mapping = create_label_mapping(nw_str)\n",
    "\n",
    "plot_tree(nw_int)\n",
    "\n",
    "pprint(label_mapping)"
   ]
  },
  {
   "cell_type": "markdown",
   "metadata": {},
   "source": [
    "* The reverse operation is ```apply_label_mapping```"
   ]
  },
  {
   "cell_type": "code",
   "execution_count": 31,
   "metadata": {},
   "outputs": [
    {
     "name": "stdout",
     "output_type": "stream",
     "text": [
      "\u001b[0;31mSignature:\u001b[0m \u001b[0mapply_label_mapping\u001b[0m\u001b[0;34m(\u001b[0m\u001b[0mnewick\u001b[0m\u001b[0;34m,\u001b[0m \u001b[0mlabel_mapping\u001b[0m\u001b[0;34m)\u001b[0m\u001b[0;34m\u001b[0m\u001b[0;34m\u001b[0m\u001b[0m\n",
      "\u001b[0;31mDocstring:\u001b[0m\n",
      "Apply an integer-taxon label mapping (label_mapping)\n",
      "from a string-based newick (where leaves are strings)\n",
      "and produce a mapped integer-based newick (where leaves are integers)\n",
      "\n",
      "Parameters\n",
      "----------\n",
      "newick : str\n",
      "    Newick with integer labels\n",
      "label_mapping : Dict str --> str\n",
      "    Mapping of leaf labels (integers converted to string) to taxa\n",
      "\n",
      "Returns\n",
      "-------\n",
      "newick : str\n",
      "    Newick with string labels\n",
      "\u001b[0;31mFile:\u001b[0m      ~/src/phylo2vec/public_fork2/py-phylo2vec/phylo2vec/utils/newick.py\n",
      "\u001b[0;31mType:\u001b[0m      function"
     ]
    }
   ],
   "source": [
    "from phylo2vec.utils.newick import apply_label_mapping\n",
    "\n",
    "apply_label_mapping?"
   ]
  },
  {
   "cell_type": "code",
   "execution_count": 32,
   "metadata": {},
   "outputs": [
    {
     "data": {
      "text/plain": [
       "True"
      ]
     },
     "execution_count": 32,
     "metadata": {},
     "output_type": "execute_result"
    }
   ],
   "source": [
    "new_nw_str = apply_label_mapping(nw_int, label_mapping)\n",
    "\n",
    "new_nw_str == nw_str"
   ]
  },
  {
   "cell_type": "markdown",
   "metadata": {},
   "source": [
    "## 4. I/O: saving and writing files\n",
    "\n",
    "It is also possible to save/write and load/read some files. Phylo2Vec supports various file formats for both arrays and Newick strings, making it versatile for different use cases.\n",
    "\n",
    "### 4.1. Supported File Extensions\n",
    "\n",
    "Phylo2Vec accepts the following file extensions for arrays and Newick strings:\n",
    "\n",
    "- **Array file extensions** (for Phylo2Vec vector/matrices): `.csv`, `.txt`\n",
    "- **Newick file extensions**: `.txt`, `.nwk`, `.newick`, `.tree`, `.treefile`\n",
    "\n",
    "These extensions ensure compatibility with other programming languages as well as commonly used formats in phylogenetics and computational biology."
   ]
  },
  {
   "cell_type": "code",
   "execution_count": 33,
   "metadata": {},
   "outputs": [
    {
     "name": "stdout",
     "output_type": "stream",
     "text": [
      "Accepted array file extensions: ['.csv', '.txt']\n",
      "Accepted newick file extensions: ['.txt', '.nwk', '.newick', '.tree', '.treefile']\n"
     ]
    }
   ],
   "source": [
    "from glob import glob\n",
    "\n",
    "import tempfile\n",
    "\n",
    "from phylo2vec.io._validation import ACCEPTED_ARRAY_FILE_EXTENSIONS, ACCEPTED_NEWICK_FILE_EXTENSIONS\n",
    "\n",
    "print(f\"Accepted array file extensions: {ACCEPTED_ARRAY_FILE_EXTENSIONS}\")\n",
    "print(f\"Accepted newick file extensions: {ACCEPTED_NEWICK_FILE_EXTENSIONS}\")"
   ]
  },
  {
   "cell_type": "markdown",
   "metadata": {},
   "source": [
    "### 4.2. Reading/writing arrays"
   ]
  },
  {
   "cell_type": "markdown",
   "metadata": {},
   "source": [
    "To read and write Phylo2Vec vectors or matrices, use ```load```, and ```save```, respectively"
   ]
  },
  {
   "cell_type": "code",
   "execution_count": 34,
   "metadata": {},
   "outputs": [
    {
     "name": "stdout",
     "output_type": "stream",
     "text": [
      "Creating temporary directory /tmp/tmpj8xz8wge...\n",
      "Saving vector: array([0, 0, 1, 2])\n",
      "Files in /tmp/tmpj8xz8wge: ['/tmp/tmpj8xz8wge/v5.txt']\n",
      "Loaded vector: array([0, 0, 1, 2])\n",
      "\n",
      "Saving matrix:\n",
      "array([[0.        , 0.13019991, 0.7678588 ],\n",
      "       [0.        , 0.05164948, 0.05071734],\n",
      "       [2.        , 0.43557402, 0.60349464],\n",
      "       [3.        , 0.53842747, 0.22101495]])\n",
      "Files in /tmp/tmpj8xz8wge: ['/tmp/tmpj8xz8wge/m5.txt', '/tmp/tmpj8xz8wge/v5.txt']\n",
      "Loaded matrix:\n",
      "array([[0.        , 0.13019991, 0.7678588 ],\n",
      "       [0.        , 0.05164948, 0.05071734],\n",
      "       [2.        , 0.43557402, 0.60349464],\n",
      "       [3.        , 0.53842747, 0.22101495]])\n"
     ]
    }
   ],
   "source": [
    "from phylo2vec import load, save\n",
    "\n",
    "with tempfile.TemporaryDirectory() as tmpdirname:\n",
    "    print(f\"Creating temporary directory {tmpdirname}...\")\n",
    "    tmpfname_vector = f\"{tmpdirname}/v5.txt\"\n",
    "    v = sample_vector(5)\n",
    "    print(f\"Saving vector: {repr(v)}\")\n",
    "    save(v, tmpfname_vector)\n",
    "\n",
    "    print(f\"Files in {tmpdirname}: {glob(tmpdirname + '/*')}\")\n",
    "\n",
    "    v2 = load(tmpfname_vector)\n",
    "    print(f\"Loaded vector: {repr(v2)}\")\n",
    "    assert np.array_equal(v, v2)  # should be the same\n",
    "\n",
    "    print()\n",
    "    tmpfname_matrix = f\"{tmpdirname}/m5.txt\"\n",
    "\n",
    "    m = sample_matrix(5)\n",
    "    print(f\"Saving matrix:\\n{repr(m)}\")\n",
    "    save(m, tmpfname_matrix)\n",
    "\n",
    "    print(f\"Files in {tmpdirname}: {glob(tmpdirname + '/*')}\")\n",
    "\n",
    "    m2 = load(tmpfname_matrix)\n",
    "    print(f\"Loaded matrix:\\n{repr(m2)}\")\n",
    "\n",
    "    assert np.array_equal(m, m2)  # should be the same"
   ]
  },
  {
   "cell_type": "markdown",
   "metadata": {},
   "source": [
    "### 4.3. Reading/writing files containing Newick strings"
   ]
  },
  {
   "cell_type": "markdown",
   "metadata": {},
   "source": [
    "To load and save Newick strings as Phylo2Vec vectors or matrices, use ```load_newick```, and ```save_newick```, respectively"
   ]
  },
  {
   "cell_type": "code",
   "execution_count": 35,
   "metadata": {},
   "outputs": [
    {
     "name": "stdout",
     "output_type": "stream",
     "text": [
      "Creating temporary directory /tmp/tmplll07dv0...\n",
      "Saving as newick: array([0, 1, 4, 4, 8])\n",
      "Files in /tmp/tmplll07dv0: ['/tmp/tmplll07dv0/v6.txt']\n",
      "Loaded newick back to vector: array([0, 1, 4, 4, 8])\n",
      "\n",
      "Saving as newick:\n",
      "array([[0.        , 0.68952268, 0.29305875],\n",
      "       [1.        , 0.94858885, 0.52901864],\n",
      "       [3.        , 0.98526967, 0.5341301 ],\n",
      "       [5.        , 0.39921775, 0.31769511]])\n",
      "Files in /tmp/tmplll07dv0: ['/tmp/tmplll07dv0/v6.txt', '/tmp/tmplll07dv0/m6.txt']\n",
      "Loaded newick back to matrix:\n",
      "array([[0.        , 0.68952268, 0.29305875],\n",
      "       [1.        , 0.94858885, 0.52901864],\n",
      "       [3.        , 0.98526967, 0.5341301 ],\n",
      "       [5.        , 0.39921775, 0.31769511]])\n"
     ]
    }
   ],
   "source": [
    "from phylo2vec import load_newick, save_newick\n",
    "\n",
    "with tempfile.TemporaryDirectory() as tmpdirname:\n",
    "    print(f\"Creating temporary directory {tmpdirname}...\")\n",
    "    tmpfname_vector = f\"{tmpdirname}/v6.txt\"\n",
    "    v6 = sample_vector(6)\n",
    "\n",
    "    print(f\"Saving as newick: {repr(v6)}\")\n",
    "    save_newick(v6, tmpfname_vector)\n",
    "\n",
    "    print(f\"Files in {tmpdirname}: {glob(tmpdirname + '/*')}\")\n",
    "\n",
    "    v6_other = load_newick(tmpfname_vector)\n",
    "    print(f\"Loaded newick back to vector: {repr(v6_other)}\")\n",
    "    assert np.array_equal(v6_other, v6)  # should be the same\n",
    "\n",
    "    print()\n",
    "    tmpfname_matrix = f\"{tmpdirname}/m6.txt\"\n",
    "\n",
    "    m6 = sample_matrix(5)\n",
    "    print(f\"Saving as newick:\\n{repr(m6)}\")\n",
    "    save_newick(m6, tmpfname_matrix)\n",
    "\n",
    "    print(f\"Files in {tmpdirname}: {glob(tmpdirname + '/*')}\")\n",
    "\n",
    "    m6_other = load_newick(tmpfname_matrix)\n",
    "    print(f\"Loaded newick back to matrix:\\n{repr(m6_other)}\")\n",
    "\n",
    "    assert np.array_equal(m6, m6_other)  # should be the same"
   ]
  }
 ],
 "metadata": {
  "kernelspec": {
   "display_name": "phylo",
   "language": "python",
   "name": "python3"
  },
  "language_info": {
   "codemirror_mode": {
    "name": "ipython",
    "version": 3
   },
   "file_extension": ".py",
   "mimetype": "text/x-python",
   "name": "python",
   "nbconvert_exporter": "python",
   "pygments_lexer": "ipython3",
   "version": "3.10.10"
  }
 },
 "nbformat": 4,
 "nbformat_minor": 2
}
