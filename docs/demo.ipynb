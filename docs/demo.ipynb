{
 "cells": [
  {
   "cell_type": "markdown",
   "metadata": {},
   "source": [
    "# Phylo2Vec demo\n",
    "\n",
    "Welcome to the Phylo2Vec demo! Here, we will quickly visit the main functions of Phylo2Vec, including:\n",
    "* How to sample random tree topologies (cladograms) as Phylo2Vec vectors\n",
    "* How to convert Phylo2Vec vectors to Newick format and vice versa\n",
    "* How to sample random trees with branch lengths (phylograms) as Phylo2Vec matrices\n",
    "* How to convert these matrices to Newick format and vice versa\n",
    "* Other useful operations on Phylo2Vec vectors\n",
    "\n",
    "Note that the current version of Phylo2Vec (1.x) relies on a core written in Rust, with bindings to Python and R. This comes with significant speed-ups, allowing manipulation large trees (up to ~100,000 to 1 million leaves). To become more familiar with Rust, we recommend this [interactive book](https://rust-book.cs.brown.edu/experiment-intro.html)."
   ]
  },
  {
   "cell_type": "markdown",
   "metadata": {},
   "source": [
    "## 1. Imports\n",
    "\n",
    "### 1.1. Rust core\n",
    "\n",
    "* Currently, most functions of Phylo2Vec are written in Rust. There are many reasons to like Rust that make it desirable for this project, especially its speed, type and memory safety, and portability to other high-level languages like Python and R.  \n",
    "* Most functions written in Rust are available in Python (and soon in R) via [PyO3](https://pyo3.rs/v0.24.2/) which provides Rust bindings for Python (via a module called here ```_phylo2vec_core```). Thus, most Python functions consist in thin wrappers of the Rust functions.\n",
    "\n",
    "### 1.2. Other dependencies\n",
    "\n",
    "* The Python side of Phylo2Vec requires [NumPy](https://numpy.org/) for array manipulations. Here, we will also use [ete](https://github.com/etetoolkit/ete), a useful Python toolkit for tree manipulation and visualisation."
   ]
  },
  {
   "cell_type": "code",
   "execution_count": 1,
   "metadata": {},
   "outputs": [],
   "source": [
    "import os\n",
    "\n",
    "import numpy as np\n",
    "\n",
    "from ete3 import Tree\n",
    "\n",
    "# To run the notebook here, we need to change the working directory\n",
    "# to py-phylo2vec, which is the parent directory of the Python package.\n",
    "os.chdir(\"../py-phylo2vec\")\n",
    "\n",
    "import phylo2vec as p2v\n",
    "import phylo2vec._phylo2vec_core as core"
   ]
  },
  {
   "cell_type": "markdown",
   "metadata": {},
   "source": [
    "## 2. Core functions"
   ]
  },
  {
   "cell_type": "markdown",
   "metadata": {},
   "source": [
    "### 2.1. Sampling a random tree\n",
    "\n",
    "Use ```sample_vector``` to sample a random tree topology. This function takes two arguments:\n",
    "* ```n_leaves```, the desired number of leaves/tips in the tree\n",
    "* ```ordered```, a boolean to sample _ordered_ or _unordered_ trees. This notion was introduced in our [published article](https://doi.org/10.1093/sysbio/syae030) ([preprint](https://arxiv.org/abs/2304.12693)) - a brief summary is described below:\n",
    "\n",
    "| Characteristic             | **Ordered**                   | **Unordered**                  |\n",
    "|----------------------------|-------------------------------|--------------------------------|\n",
    "| Constraint                 | ```v[i]``` $\\in \\{0, 1, \\ldots, i\\}$ | ```v[i]``` $\\in \\{0, 1, \\ldots, 2i\\}$ |\n",
    "| Description                | Similar to birth processes    | Bijection of binary tree space |\n",
    "| Meaning of ```v[i]```      | leaf that forms a cherry with leaf $i$ at iteration $i$  | branch that splits and yields leaf $i$ at iteration $i$ |\n"
   ]
  },
  {
   "cell_type": "code",
   "execution_count": null,
   "metadata": {},
   "outputs": [
    {
     "name": "stdout",
     "output_type": "stream",
     "text": [
      "array([0, 0, 1, 5, 8, 5])\n"
     ]
    }
   ],
   "source": [
    "v = p2v.sample_vector(n_leaves=7)\n",
    "\n",
    "print(repr(v))"
   ]
  },
  {
   "cell_type": "code",
   "execution_count": null,
   "metadata": {},
   "outputs": [
    {
     "name": "stdout",
     "output_type": "stream",
     "text": [
      "array([0, 0, 0, 2, 2, 2])\n"
     ]
    }
   ],
   "source": [
    "v_ordered = p2v.sample_vector(n_leaves=7, ordered=True)\n",
    "\n",
    "print(repr(v_ordered))"
   ]
  },
  {
   "cell_type": "markdown",
   "metadata": {},
   "source": [
    "To check that a vector is valid according to the Phylo2Vec formulation, use ```check_vector```."
   ]
  },
  {
   "cell_type": "code",
   "execution_count": null,
   "metadata": {},
   "outputs": [
    {
     "name": "stderr",
     "output_type": "stream",
     "text": [
      "thread '<unnamed>' panicked at phylo2vec/src/utils.rs:140:5:\n",
      "Validation failed: v[5] = 11 is out of bounds (max = 10)\n",
      "note: run with `RUST_BACKTRACE=1` environment variable to display a backtrace\n"
     ]
    },
    {
     "ename": "PanicException",
     "evalue": "Validation failed: v[5] = 11 is out of bounds (max = 10)",
     "output_type": "error",
     "traceback": [
      "\u001b[0;31m---------------------------------------------------------------------------\u001b[0m",
      "\u001b[0;31mPanicException\u001b[0m                            Traceback (most recent call last)",
      "Cell \u001b[0;32mIn[3], line 12\u001b[0m\n\u001b[1;32m      9\u001b[0m v_awkward[\u001b[38;5;241m5\u001b[39m] \u001b[38;5;241m=\u001b[39m \u001b[38;5;241m11\u001b[39m\n\u001b[1;32m     11\u001b[0m \u001b[38;5;28;01mtry\u001b[39;00m:\n\u001b[0;32m---> 12\u001b[0m     \u001b[43mcheck_vector\u001b[49m\u001b[43m(\u001b[49m\u001b[43mv_awkward\u001b[49m\u001b[43m)\u001b[49m \u001b[38;5;66;03m# AssertionError\u001b[39;00m\n\u001b[1;32m     13\u001b[0m \u001b[38;5;28;01mexcept\u001b[39;00m \u001b[38;5;167;01mAssertionError\u001b[39;00m \u001b[38;5;28;01mas\u001b[39;00m err:\n\u001b[1;32m     14\u001b[0m     warnings\u001b[38;5;241m.\u001b[39mwarn(\u001b[38;5;124mf\u001b[39m\u001b[38;5;124m\"\u001b[39m\u001b[38;5;124mError encountered: \u001b[39m\u001b[38;5;132;01m{\u001b[39;00merr\u001b[38;5;132;01m}\u001b[39;00m\u001b[38;5;124m\"\u001b[39m)\n",
      "File \u001b[0;32m~/src/phylo2vec/public_fork2/py-phylo2vec/phylo2vec/utils/vector.py:25\u001b[0m, in \u001b[0;36mcheck_vector\u001b[0;34m(v)\u001b[0m\n\u001b[1;32m     15\u001b[0m \u001b[38;5;28;01mdef\u001b[39;00m \u001b[38;5;21mcheck_vector\u001b[39m(v: np\u001b[38;5;241m.\u001b[39mndarray) \u001b[38;5;241m-\u001b[39m\u001b[38;5;241m>\u001b[39m \u001b[38;5;28;01mNone\u001b[39;00m:\n\u001b[1;32m     16\u001b[0m \u001b[38;5;250m    \u001b[39m\u001b[38;5;124;03m\"\"\"Input validation of a Phylo2Vec vector\u001b[39;00m\n\u001b[1;32m     17\u001b[0m \n\u001b[1;32m     18\u001b[0m \u001b[38;5;124;03m    The input is checked to satisfy the Phylo2Vec constraints\u001b[39;00m\n\u001b[0;32m   (...)\u001b[0m\n\u001b[1;32m     23\u001b[0m \u001b[38;5;124;03m        Phylo2Vec vector\u001b[39;00m\n\u001b[1;32m     24\u001b[0m \u001b[38;5;124;03m    \"\"\"\u001b[39;00m\n\u001b[0;32m---> 25\u001b[0m     \u001b[43mcore\u001b[49m\u001b[38;5;241;43m.\u001b[39;49m\u001b[43mcheck_v\u001b[49m\u001b[43m(\u001b[49m\u001b[43mv\u001b[49m\u001b[38;5;241;43m.\u001b[39;49m\u001b[43mtolist\u001b[49m\u001b[43m(\u001b[49m\u001b[43m)\u001b[49m\u001b[43m)\u001b[49m\n",
      "\u001b[0;31mPanicException\u001b[0m: Validation failed: v[5] = 11 is out of bounds (max = 10)"
     ]
    }
   ],
   "source": [
    "from phylo2vec.utils.vector import check_vector\n",
    "\n",
    "check_vector(v) # returns None\n",
    "\n",
    "v_awkward = v.copy()\n",
    "\n",
    "v_awkward[5] = 11\n",
    "\n",
    "check_vector(v_awkward) # PanicException"
   ]
  },
  {
   "cell_type": "markdown",
   "metadata": {},
   "source": [
    "### 2.2. Conversion to other formats\n",
    "\n",
    "* Part of the library's goal is to offer functions to convert a phylogenetic tree encoded as a Phylo2Vec vectors in to various formats, including Newick strings, edge lists, and other intermediate formats derived from Phylo2Vec/Newick conversion functions.\n",
    "\n",
    "#### 2.2.1. Newick string\n",
    "\n",
    "##### Converting a vector to a Newick string\n",
    "\n",
    "Use ```to_newick``` to convert a vector to a Newick string."
   ]
  },
  {
   "cell_type": "code",
   "execution_count": 4,
   "metadata": {},
   "outputs": [
    {
     "data": {
      "text/plain": [
       "'((((0,2)9,4)10,(1,3)8)11,(5,6)7)12;'"
      ]
     },
     "execution_count": 4,
     "metadata": {},
     "output_type": "execute_result"
    }
   ],
   "source": [
    "newick = p2v.to_newick(v)\n",
    "\n",
    "newick"
   ]
  },
  {
   "cell_type": "markdown",
   "metadata": {},
   "source": [
    "Under the hood, ```to_newick``` performs two operations. ```get_pairs``` and ```_build_newick```.\n",
    "\n",
    "```get_pairs``` produces an ordered list of pairs of leaves from the vector (as a post-order traversal), making use of [AVL trees](https://en.wikipedia.org/wiki/AVL_tree). Each element corresponds to a cherry with its parental node: [children1, children2, parent].\n",
    "\n",
    "In this example, we have that:\n",
    "* leaves (1, 6) form a first cherry → 1 = min(1, 6) so leaf 1 is the representative of that cherry\n",
    "* leaves (4, 5) form a second cherry → 4 = min(4, 5) so leaf 4 is the representative of that cherry\n",
    "* leaves (2, 3) form a third cherry → 2 = min(2, 3) so leaf 2 is the representative of that cherry\n",
    "* (0, 1): 1 was already visited in the first cherry, so leaf 0 forms a cherry with the parent of leaf 1\n",
    "* (0, 4): both were already visited, so the parents of leaf 0 and leaf 4 form a cherry\n",
    "* (0, 2): both were already visited, to the parents of leaf 0 and leaf 2 form a cherry"
   ]
  },
  {
   "cell_type": "code",
   "execution_count": 5,
   "metadata": {},
   "outputs": [
    {
     "data": {
      "text/plain": [
       "[(1, 6), (4, 5), (2, 3), (0, 1), (0, 4), (0, 2)]"
      ]
     },
     "execution_count": 5,
     "metadata": {},
     "output_type": "execute_result"
    }
   ],
   "source": [
    "v_fixed = np.array([0, 2, 2, 5, 4, 1])\n",
    "\n",
    "pairs = core.get_pairs(v_fixed)\n",
    "\n",
    "pairs"
   ]
  },
  {
   "cell_type": "markdown",
   "metadata": {},
   "source": [
    "```build_newick``` takes the list of pairs and forms a Newick string (with internal labels (or \"parents\"))"
   ]
  },
  {
   "cell_type": "code",
   "execution_count": 6,
   "metadata": {},
   "outputs": [
    {
     "data": {
      "text/plain": [
       "'(((0,(1,6)7)10,(4,5)8)11,(2,3)9)12;'"
      ]
     },
     "execution_count": 6,
     "metadata": {},
     "output_type": "execute_result"
    }
   ],
   "source": [
    "newick_fixed = core.build_newick(pairs)\n",
    "\n",
    "newick_fixed2 = p2v.to_newick(v_fixed)\n",
    "\n",
    "assert newick_fixed == newick_fixed2  # should be the same\n",
    "\n",
    "newick_fixed2"
   ]
  },
  {
   "cell_type": "markdown",
   "metadata": {},
   "source": [
    "For visualisation purposes, we can plot the tree using ete3\n",
    "\n",
    "We observe the same \"cherries\" as described above: \n",
    "* (1, 6), which merges with 0\n",
    "* (4, 5), which then merges with the subtree (0,(1,6))\n",
    "* (2, 3), which then merges with the subtree ((0,(1,6)),(4,5))"
   ]
  },
  {
   "cell_type": "code",
   "execution_count": 7,
   "metadata": {},
   "outputs": [
    {
     "name": "stdout",
     "output_type": "stream",
     "text": [
      "\n",
      "         /-0\n",
      "      /-|\n",
      "     |  |   /-1\n",
      "     |   \\-|\n",
      "   /-|      \\-6\n",
      "  |  |\n",
      "  |  |   /-4\n",
      "--|   \\-|\n",
      "  |      \\-5\n",
      "  |\n",
      "  |   /-2\n",
      "   \\-|\n",
      "      \\-3\n"
     ]
    }
   ],
   "source": [
    "def plot_tree(newick):\n",
    "    print(Tree(newick))\n",
    "\n",
    "plot_tree(newick_fixed)"
   ]
  },
  {
   "cell_type": "markdown",
   "metadata": {},
   "source": [
    "##### Converting a Newick to a vector\n",
    "\n",
    "Use ```from_newick``` to convert a vector to a Newick string."
   ]
  },
  {
   "cell_type": "code",
   "execution_count": null,
   "metadata": {},
   "outputs": [
    {
     "name": "stdout",
     "output_type": "stream",
     "text": [
      "v (sampled): array([0, 2, 3, 4, 1, 8])\n",
      "newick: (((((0,(1,5)7)8,4)9,6)10,3)11,2)12;\n",
      "v (convert): array([0, 2, 3, 4, 1, 8])\n"
     ]
    }
   ],
   "source": [
    "# Let's generate a new v with 7 leaves using sample\n",
    "v7 = p2v.sample_vector(7)\n",
    "print(f\"v (sampled): {repr(v7)}\")\n",
    "\n",
    "newick7 = p2v.to_newick(v7)\n",
    "print(f\"newick: {newick7}\")\n",
    "\n",
    "v7_new = p2v.from_newick(newick7)\n",
    "print(f\"v (convert): {repr(v7_new)}\")\n",
    "\n",
    "assert np.array_equal(v7, v7_new)  # should be the same"
   ]
  },
  {
   "cell_type": "markdown",
   "metadata": {},
   "source": [
    "We can also convert Newick strings without parent labels. Several functions are provided in ```phylo2vec.utils.newick``` to process Newick strings."
   ]
  },
  {
   "cell_type": "code",
   "execution_count": 13,
   "metadata": {},
   "outputs": [
    {
     "name": "stdout",
     "output_type": "stream",
     "text": [
      "Newick with parent labels: (((((0,(1,5)7)8,4)9,6)10,3)11,2)12;\n",
      "Newick without parent labels: (((((0,(1,5)),4),6),3),2);\n",
      "v (converted without parents): array([0, 2, 3, 4, 1, 8])\n"
     ]
    }
   ],
   "source": [
    "from phylo2vec.utils.newick import remove_parent_labels\n",
    "\n",
    "newick7_no_parent = remove_parent_labels(newick7)\n",
    "\n",
    "print(f\"Newick with parent labels: {newick7}\")\n",
    "print(f\"Newick without parent labels: {newick7_no_parent}\")\n",
    "\n",
    "v7_no_parent = p2v.from_newick(newick7_no_parent)\n",
    "print(f\"v (converted without parents): {repr(v7_new)}\")\n",
    "\n",
    "assert np.array_equal(v7, v7_no_parent)  # should be the same"
   ]
  },
  {
   "cell_type": "markdown",
   "metadata": {},
   "source": [
    "### 2.2.2. Edge list\n",
    "\n",
    "For a tree with $n$ leaves, we can derive a list of edges of length $2 (n-1)$\n",
    "\n",
    "Use ```to_edges``` to convert a vector to a list of tree edges (node1, node2)"
   ]
  },
  {
   "cell_type": "code",
   "execution_count": 14,
   "metadata": {},
   "outputs": [
    {
     "name": "stdout",
     "output_type": "stream",
     "text": [
      "[(1, 7), (6, 7), (4, 8), (5, 8), (2, 9), (3, 9), (0, 10), (7, 10), (10, 11), (8, 11), (11, 12), (9, 12)]\n"
     ]
    }
   ],
   "source": [
    "edges = p2v.to_edges(v_fixed)\n",
    "\n",
    "print(edges)"
   ]
  },
  {
   "cell_type": "markdown",
   "metadata": {},
   "source": [
    "Use ```from_edges``` to convert a list of edges back to a vector"
   ]
  },
  {
   "cell_type": "code",
   "execution_count": 15,
   "metadata": {},
   "outputs": [],
   "source": [
    "v_fixed_from_edges = p2v.from_edges(edges)\n",
    "\n",
    "assert np.array_equal(v_fixed, v_fixed_from_edges)  # should be the same"
   ]
  },
  {
   "cell_type": "markdown",
   "metadata": {},
   "source": [
    "### 2.2.3. Ancestry\n",
    "\n",
    "A visually useful format that was derived in previous versions of Phylo2Vec is the so-called \"ancestry\" matrix.\n",
    "\n",
    "For a tree with $n$ leaves, the ancestry matrix is of size $(n-1, 3)$ describing a list of triplets (node1, node2, parent)\n",
    "\n",
    "Use ```to_ancestry``` to convert a vector to an ancestry matrix"
   ]
  },
  {
   "cell_type": "code",
   "execution_count": 16,
   "metadata": {},
   "outputs": [
    {
     "name": "stdout",
     "output_type": "stream",
     "text": [
      "array([[ 1,  6,  7],\n",
      "       [ 4,  5,  8],\n",
      "       [ 2,  3,  9],\n",
      "       [ 0,  7, 10],\n",
      "       [10,  8, 11],\n",
      "       [11,  9, 12]])\n"
     ]
    }
   ],
   "source": [
    "ancestry = p2v.to_ancestry(v_fixed)\n",
    "\n",
    "print(repr(ancestry))"
   ]
  },
  {
   "cell_type": "markdown",
   "metadata": {},
   "source": [
    "Use ```from_ancestry``` to convert an ancestry matrix back to a vector"
   ]
  },
  {
   "cell_type": "code",
   "execution_count": 17,
   "metadata": {},
   "outputs": [],
   "source": [
    "v_fixed_from_ancestry = p2v.from_ancestry(ancestry)\n",
    "\n",
    "assert np.array_equal(v_fixed, v_fixed_from_ancestry)  # should be the same"
   ]
  },
  {
   "cell_type": "markdown",
   "metadata": {},
   "source": [
    "### 2.2.4. \"Pairs\"\n",
    "\n",
    "Another intermediate format from the Phylo2Vec/Newick conversion functions is a so-called list of pairs.\n",
    "\n",
    "For a tree with $n$ leaves, the pair list is of length $n-1$.\n",
    "\n",
    "Each pair corresponds to a list of tuples, where each pair is represented as a tuple (B, L) indicating that leaf L descends from branch B.\n",
    "\n",
    "Use ```to_pairs``` to convert a vector to a list of pairs"
   ]
  },
  {
   "cell_type": "code",
   "execution_count": 18,
   "metadata": {},
   "outputs": [
    {
     "name": "stdout",
     "output_type": "stream",
     "text": [
      "[(1, 6), (4, 5), (2, 3), (0, 1), (0, 4), (0, 2)]\n"
     ]
    }
   ],
   "source": [
    "pairs = p2v.to_pairs(v_fixed)\n",
    "\n",
    "print(pairs)"
   ]
  },
  {
   "cell_type": "markdown",
   "metadata": {},
   "source": [
    "Use ```from_pairs``` to convert a list of pairs back to a vector"
   ]
  },
  {
   "cell_type": "code",
   "execution_count": 19,
   "metadata": {},
   "outputs": [],
   "source": [
    "v_fixed_from_pairs = p2v.from_pairs(pairs)\n",
    "\n",
    "assert np.array_equal(v_fixed, v_fixed_from_pairs)  # should be the same"
   ]
  },
  {
   "cell_type": "markdown",
   "metadata": {},
   "source": [
    "### 2.4 Matrix format\n",
    "\n",
    "* Newick strings can also have branch lengths, so it is also desirable to store not only the topology (which the core Phylo2Vec does), but also the branch lengths\n",
    "\n",
    "In this setup:\n",
    " * The 1st column is v[i] (i.e., the Phylo2Vec vector)\n",
    " * The 2nd and 3rd columns are the ordered branch lengths of cherry in the ancestry matrix. The order of the branch lengths is determined by the _smallest descendant_ of the ancestry nodes. The node with the smallest descendant will have the branch length in the 2nd column, and the other the branch length in the 3rd column.\n",
    "\n",
    "Under the hood, ```from_newick``` checks whether the Newick string has branch lengths or not, and ```to_newick``` checks whether the input is a vector or a matrix, and performs the conversion. So we can use the same functions as before!"
   ]
  },
  {
   "cell_type": "code",
   "execution_count": 24,
   "metadata": {},
   "outputs": [
    {
     "name": "stdout",
     "output_type": "stream",
     "text": [
      "m (sampled):\n",
      "array([[0.        , 0.05586577, 0.73334581],\n",
      "       [0.        , 0.38201654, 0.61142737],\n",
      "       [4.        , 0.85919964, 0.30591026],\n",
      "       [0.        , 0.25750902, 0.02408398]])\n"
     ]
    }
   ],
   "source": [
    "from phylo2vec import sample_matrix\n",
    "\n",
    "n_leaves = 5\n",
    "\n",
    "m5 = sample_matrix(n_leaves)\n",
    "\n",
    "print(f\"m (sampled):\\n{repr(m5)}\")"
   ]
  },
  {
   "cell_type": "code",
   "execution_count": 25,
   "metadata": {},
   "outputs": [
    {
     "name": "stdout",
     "output_type": "stream",
     "text": [
      "((((0:0.055865772,4:0.7333458)5:0.38201654,2:0.61142737)6:0.85919964,1:0.30591026)7:0.25750902,3:0.02408398)8;\n"
     ]
    }
   ],
   "source": [
    "newick_with_bls = p2v.to_newick(m5)\n",
    "\n",
    "print(newick_with_bls)"
   ]
  },
  {
   "cell_type": "code",
   "execution_count": 26,
   "metadata": {},
   "outputs": [],
   "source": [
    "m5_other = p2v.from_newick(newick_with_bls)\n",
    "\n",
    "assert np.array_equal(m5, m5_other)  # should be the same"
   ]
  },
  {
   "cell_type": "markdown",
   "metadata": {},
   "source": [
    "## 3. Other utility functions\n",
    "\n",
    "### 3.1. Metrics\n",
    "\n",
    "We believe it is possible to implement a wide variety of metrics pertaining to trees using the Phylo2Vec format.\n",
    "\n",
    "These can be metrics between trees (we evoked calculating a Hamming distance between vectors in the Phylo2Vec paper), but also between leaves within a tree. An example of the latter is the [cophenetic distance](https://en.wikipedia.org/wiki/Cophenetic) (inspired by [ape](https://rdrr.io/cran/ape/man/cophenetic.phylo.html))."
   ]
  },
  {
   "cell_type": "code",
   "execution_count": 31,
   "metadata": {},
   "outputs": [
    {
     "name": "stdout",
     "output_type": "stream",
     "text": [
      "vector:\n",
      "array([0, 2, 2, 5, 4, 1])\n",
      "Cophenetic distance matrix (topology):\n",
      "[[0 3 5 5 4 4 3]\n",
      " [3 0 6 6 5 5 2]\n",
      " [5 6 0 2 5 5 6]\n",
      " [5 6 2 0 5 5 6]\n",
      " [4 5 5 5 0 2 5]\n",
      " [4 5 5 5 2 0 5]\n",
      " [3 2 6 6 5 5 0]]\n"
     ]
    }
   ],
   "source": [
    "from phylo2vec.metrics import pairwise_distances\n",
    "\n",
    "print(f\"vector:\\n{repr(v_fixed)}\")\n",
    "\n",
    "print(f\"Cophenetic distance matrix (topology):\\n{pairwise_distances(v_fixed, metric='cophenetic')}\")"
   ]
  },
  {
   "cell_type": "code",
   "execution_count": null,
   "metadata": {},
   "outputs": [
    {
     "name": "stdout",
     "output_type": "stream",
     "text": [
      "matrix:\n",
      "array([[0.        , 0.05586577, 0.73334581],\n",
      "       [0.        , 0.38201654, 0.61142737],\n",
      "       [4.        , 0.85919964, 0.30591026],\n",
      "       [0.        , 0.25750902, 0.02408398]])\n",
      "Cophenetic distance matrix (rounded):\n",
      "[[0.    1.603 1.049 1.579 0.789]\n",
      " [1.603 0.    1.777 0.588 2.28 ]\n",
      " [1.049 1.777 0.    1.752 1.727]\n",
      " [1.579 0.588 1.752 0.    2.256]\n",
      " [0.789 2.28  1.727 2.256 0.   ]]\n"
     ]
    }
   ],
   "source": [
    "m5 = np.array(\n",
    "    [\n",
    "        [0.0, 0.05586577, 0.73334581],\n",
    "        [0.0, 0.38201654, 0.61142737],\n",
    "        [4.0, 0.85919964, 0.30591026],\n",
    "        [0.0, 0.25750902, 0.02408398],\n",
    "    ]\n",
    ")\n",
    "\n",
    "print(f\"matrix:\\n{repr(m5)}\")\n",
    "\n",
    "print(\n",
    "    f\"Cophenetic distance matrix (rounded):\\n{pairwise_distances(m5.astype(np.float32), metric='cophenetic').round(3)}\"\n",
    ")"
   ]
  },
  {
   "cell_type": "markdown",
   "metadata": {},
   "source": [
    "### 3.2 Optimisation\n",
    "\n",
    "In the Phylo2Vec paper, we showcased a hill-climbing optimisation scheme to demonstrate the potential of phylo2vec for maximum likelihood-based phylogenetic inference.\n",
    "\n",
    "These optimisation schemes (to be written in ```opt```) are not thoroughly maintained as difficult to test. One notable goal is to integrate [GradME](https://github.com/Neclow/GradME) into phylo2vec"
   ]
  },
  {
   "cell_type": "markdown",
   "metadata": {},
   "source": [
    "### 3.3 Other utility functions"
   ]
  },
  {
   "cell_type": "markdown",
   "metadata": {},
   "source": [
    "#### 3.3.1 Finding the number of leaves in a Newick"
   ]
  },
  {
   "cell_type": "code",
   "execution_count": 33,
   "metadata": {},
   "outputs": [],
   "source": [
    "from phylo2vec.utils.newick import find_num_leaves\n",
    "\n",
    "assert find_num_leaves(newick7) == 7"
   ]
  },
  {
   "cell_type": "markdown",
   "metadata": {},
   "source": [
    "#### 3.3.2 Removing and adding a leaf in a tree\n",
    "\n",
    "One might want to prune or add nodes in an existing tree (a common example is the subtree-prune-and-regraft operation).\n",
    "\n",
    "This is not a trivial operation as we need to re-compute the vector (as the number of leaves in the tree will have changed)"
   ]
  },
  {
   "cell_type": "code",
   "execution_count": 34,
   "metadata": {},
   "outputs": [],
   "source": [
    "from phylo2vec.utils.vector import remove_leaf\n",
    "\n",
    "leaf = 3\n",
    "\n",
    "# sister_leaf = Sister node of `leaf``in `v7`\n",
    "v6, sister_leaf = remove_leaf(v7, leaf=leaf)"
   ]
  },
  {
   "cell_type": "code",
   "execution_count": 35,
   "metadata": {},
   "outputs": [
    {
     "name": "stdout",
     "output_type": "stream",
     "text": [
      "\n",
      "               /-0\n",
      "            /-|\n",
      "           |  |   /-1\n",
      "         /-|   \\-|\n",
      "        |  |      \\-5\n",
      "      /-|  |\n",
      "     |  |   \\-4\n",
      "   /-|  |\n",
      "  |  |   \\-6\n",
      "--|  |\n",
      "  |   \\-3\n",
      "  |\n",
      "   \\-2\n",
      "\n",
      "            /-0\n",
      "         /-|\n",
      "        |  |   /-1\n",
      "      /-|   \\-|\n",
      "     |  |      \\-4\n",
      "   /-|  |\n",
      "  |  |   \\-3\n",
      "--|  |\n",
      "  |   \\-5\n",
      "  |\n",
      "   \\-2\n"
     ]
    }
   ],
   "source": [
    "plot_tree(newick7)\n",
    "plot_tree(p2v.to_newick(v6))"
   ]
  },
  {
   "cell_type": "code",
   "execution_count": 36,
   "metadata": {},
   "outputs": [
    {
     "data": {
      "text/plain": [
       "True"
      ]
     },
     "execution_count": 36,
     "metadata": {},
     "output_type": "execute_result"
    }
   ],
   "source": [
    "from phylo2vec.utils.vector import add_leaf\n",
    "\n",
    "# due to re-labelling in remove_leaf, we have to decrement sister_leaf\n",
    "if sister_leaf >= leaf:\n",
    "    sister_leaf -= 1\n",
    "\n",
    "v_add = add_leaf(v6, leaf=3, pos=sister_leaf)\n",
    "\n",
    "np.array_equal(v_add, v7)"
   ]
  },
  {
   "cell_type": "markdown",
   "metadata": {},
   "source": [
    "#### 3.3.3 Applying and create an integer mapping from a Newick string\n",
    "\n",
    "* Newick strings usually do not contain integers but real-life taxa (e.g., animal species, languages...). So it is important to provide another layer of conversion, where we can take in a Newick with string taxa, and convert it to a Newick with integer taxa, with a unique integer → taxon mapping."
   ]
  },
  {
   "cell_type": "code",
   "execution_count": 37,
   "metadata": {},
   "outputs": [
    {
     "name": "stdout",
     "output_type": "stream",
     "text": [
      "((aaaaaaaaab,(aaaaaaaaac,aaaaaaaaad)),((aaaaaaaaae,aaaaaaaaaf),((aaaaaaaaag,aaaaaaaaah),aaaaaaaaaa)));\n",
      "\n",
      "      /-aaaaaaaaab\n",
      "   /-|\n",
      "  |  |   /-aaaaaaaaac\n",
      "  |   \\-|\n",
      "  |      \\-aaaaaaaaad\n",
      "--|\n",
      "  |      /-aaaaaaaaae\n",
      "  |   /-|\n",
      "  |  |   \\-aaaaaaaaaf\n",
      "   \\-|\n",
      "     |      /-aaaaaaaaag\n",
      "     |   /-|\n",
      "      \\-|   \\-aaaaaaaaah\n",
      "        |\n",
      "         \\-aaaaaaaaaa\n"
     ]
    }
   ],
   "source": [
    "n_leaves = 8\n",
    "\n",
    "t = Tree()\n",
    "t.populate(n_leaves)\n",
    "nw_str = t.write(format=9)\n",
    "\n",
    "print(nw_str)\n",
    "\n",
    "print(t)"
   ]
  },
  {
   "cell_type": "code",
   "execution_count": 38,
   "metadata": {},
   "outputs": [
    {
     "name": "stdout",
     "output_type": "stream",
     "text": [
      "\n",
      "      /-0\n",
      "   /-|\n",
      "  |  |   /-1\n",
      "  |   \\-|\n",
      "  |      \\-2\n",
      "--|\n",
      "  |      /-3\n",
      "  |   /-|\n",
      "  |  |   \\-4\n",
      "   \\-|\n",
      "     |      /-5\n",
      "     |   /-|\n",
      "      \\-|   \\-6\n",
      "        |\n",
      "         \\-7\n",
      "{0: 'aaaaaaaaab',\n",
      " 1: 'aaaaaaaaac',\n",
      " 2: 'aaaaaaaaad',\n",
      " 3: 'aaaaaaaaae',\n",
      " 4: 'aaaaaaaaaf',\n",
      " 5: 'aaaaaaaaag',\n",
      " 6: 'aaaaaaaaah',\n",
      " 7: 'aaaaaaaaaa'}\n"
     ]
    }
   ],
   "source": [
    "from pprint import pprint\n",
    "from phylo2vec.utils.newick import create_label_mapping\n",
    "\n",
    "nw_int, label_mapping = create_label_mapping(nw_str)\n",
    "\n",
    "plot_tree(nw_int)\n",
    "\n",
    "pprint(label_mapping)"
   ]
  },
  {
   "cell_type": "markdown",
   "metadata": {},
   "source": [
    "* The reverse operation is ```apply_label_mapping```"
   ]
  },
  {
   "cell_type": "code",
   "execution_count": 39,
   "metadata": {},
   "outputs": [
    {
     "data": {
      "text/plain": [
       "True"
      ]
     },
     "execution_count": 39,
     "metadata": {},
     "output_type": "execute_result"
    }
   ],
   "source": [
    "from phylo2vec.utils.newick import apply_label_mapping\n",
    "\n",
    "new_nw_str = apply_label_mapping(nw_int, label_mapping)\n",
    "\n",
    "new_nw_str == nw_str"
   ]
  },
  {
   "cell_type": "markdown",
   "metadata": {},
   "source": [
    "## 4. I/O: saving and writing files\n",
    "\n",
    "It is also possible to save/write and load/read some files. Phylo2Vec supports various file formats for both arrays and Newick strings, making it versatile for different use cases.\n",
    "\n",
    "### 4.1. Supported File Extensions\n",
    "\n",
    "Phylo2Vec accepts the following file extensions for arrays and Newick strings:\n",
    "\n",
    "- **Array file extensions** (for Phylo2Vec vector/matrices): `.csv`, `.txt`\n",
    "- **Newick file extensions**: `.txt`, `.nwk`, `.newick`, `.tree`, `.treefile`\n",
    "\n",
    "These extensions ensure compatibility with other programming languages as well as commonly used formats in phylogenetics and computational biology."
   ]
  },
  {
   "cell_type": "code",
   "execution_count": 41,
   "metadata": {},
   "outputs": [
    {
     "name": "stdout",
     "output_type": "stream",
     "text": [
      "Accepted array file extensions: ['.csv', '.txt']\n",
      "Accepted newick file extensions: ['.txt', '.nwk', '.newick', '.tree', '.treefile']\n"
     ]
    }
   ],
   "source": [
    "from glob import glob\n",
    "\n",
    "import tempfile\n",
    "\n",
    "from phylo2vec.io._validation import FILE_EXTENSIONS\n",
    "\n",
    "\n",
    "print(f\"Accepted array file extensions: {FILE_EXTENSIONS['array']}\")\n",
    "print(f\"Accepted newick file extensions: {FILE_EXTENSIONS['newick']}\")"
   ]
  },
  {
   "cell_type": "markdown",
   "metadata": {},
   "source": [
    "### 4.2. Reading/writing arrays"
   ]
  },
  {
   "cell_type": "markdown",
   "metadata": {},
   "source": [
    "To read and write Phylo2Vec vectors or matrices, use ```load```, and ```save```, respectively"
   ]
  },
  {
   "cell_type": "code",
   "execution_count": null,
   "metadata": {},
   "outputs": [
    {
     "name": "stdout",
     "output_type": "stream",
     "text": [
      "Creating temporary directory /tmp/tmph0cq8qmj...\n",
      "Saving vector: array([0, 2, 1, 5])\n",
      "Files in /tmp/tmph0cq8qmj: ['/tmp/tmph0cq8qmj/v5.txt']\n",
      "Loaded vector: array([0, 2, 1, 5])\n",
      "\n",
      "Saving matrix:\n",
      "array([[0.        , 0.83603758, 0.91154987],\n",
      "       [0.        , 0.99484628, 0.39551872],\n",
      "       [2.        , 0.24386153, 0.29477531],\n",
      "       [2.        , 0.13840142, 0.50210303]])\n",
      "Files in /tmp/tmph0cq8qmj: ['/tmp/tmph0cq8qmj/m5.txt', '/tmp/tmph0cq8qmj/v5.txt']\n",
      "Loaded matrix:\n",
      "array([[0.        , 0.83603758, 0.91154987],\n",
      "       [0.        , 0.99484628, 0.39551872],\n",
      "       [2.        , 0.24386153, 0.29477531],\n",
      "       [2.        , 0.13840142, 0.50210303]])\n"
     ]
    }
   ],
   "source": [
    "from phylo2vec import load, save\n",
    "\n",
    "with tempfile.TemporaryDirectory() as tmpdirname:\n",
    "    print(f\"Creating temporary directory {tmpdirname}...\")\n",
    "    tmpfname_vector = f\"{tmpdirname}/v5.txt\"\n",
    "    v = np.array([0, 2, 1, 5])\n",
    "    print(f\"Saving vector: {repr(v)}\")\n",
    "    save(v, tmpfname_vector)\n",
    "\n",
    "    print(f\"Files in {tmpdirname}: {glob(tmpdirname + '/*')}\")\n",
    "\n",
    "    v2 = load(tmpfname_vector)\n",
    "    print(f\"Loaded vector: {repr(v2)}\")\n",
    "    assert np.array_equal(v, v2)  # should be the same\n",
    "\n",
    "    print()\n",
    "    tmpfname_matrix = f\"{tmpdirname}/m5.txt\"\n",
    "\n",
    "    m = np.array(\n",
    "        [\n",
    "            [0.0, 0.83603758, 0.91154987],\n",
    "            [0.0, 0.99484628, 0.39551872],\n",
    "            [2.0, 0.24386153, 0.29477531],\n",
    "            [2.0, 0.13840142, 0.50210303],\n",
    "        ]\n",
    "    )\n",
    "    print(f\"Saving matrix:\\n{repr(m)}\")\n",
    "    save(m.astype(np.float32), tmpfname_matrix)\n",
    "\n",
    "    print(f\"Files in {tmpdirname}: {glob(tmpdirname + '/*')}\")\n",
    "\n",
    "    m2 = load(tmpfname_matrix)\n",
    "    print(f\"Loaded matrix:\\n{repr(m2)}\")\n",
    "\n",
    "    assert np.array_equal(m, m2)  # should be the same"
   ]
  },
  {
   "cell_type": "markdown",
   "metadata": {},
   "source": [
    "### 4.3. Reading/writing files containing Newick strings"
   ]
  },
  {
   "cell_type": "markdown",
   "metadata": {},
   "source": [
    "To load and save Newick strings as Phylo2Vec vectors or matrices, use ```load_newick```, and ```save_newick```, respectively"
   ]
  },
  {
   "cell_type": "code",
   "execution_count": null,
   "metadata": {},
   "outputs": [
    {
     "name": "stdout",
     "output_type": "stream",
     "text": [
      "Creating temporary directory /tmp/tmp98wscpp1...\n",
      "Saving as newick: array([0, 1, 4, 4, 8])\n",
      "Files in /tmp/tmp98wscpp1: ['/tmp/tmp98wscpp1/v6.txt']\n",
      "Loaded newick back to vector: array([0, 1, 4, 4, 8])\n",
      "\n",
      "Saving as newick:\n",
      "array([[0.        , 0.68952268, 0.29305875],\n",
      "       [1.        , 0.94858885, 0.52901864],\n",
      "       [3.        , 0.98526967, 0.5341301 ],\n",
      "       [5.        , 0.39921775, 0.31769511]])\n",
      "Files in /tmp/tmp98wscpp1: ['/tmp/tmp98wscpp1/v6.txt', '/tmp/tmp98wscpp1/m6.txt']\n",
      "Loaded newick back to matrix:\n",
      "array([[0.        , 0.68952268, 0.29305875],\n",
      "       [1.        , 0.94858885, 0.52901864],\n",
      "       [3.        , 0.98526967, 0.5341301 ],\n",
      "       [5.        , 0.39921775, 0.31769511]])\n"
     ]
    }
   ],
   "source": [
    "from phylo2vec import load_newick, save_newick\n",
    "\n",
    "with tempfile.TemporaryDirectory() as tmpdirname:\n",
    "    print(f\"Creating temporary directory {tmpdirname}...\")\n",
    "    tmpfname_vector = f\"{tmpdirname}/v6.txt\"\n",
    "    v6 = np.array([0, 1, 4, 4, 8])\n",
    "\n",
    "    print(f\"Saving as newick: {repr(v6)}\")\n",
    "    save_newick(v6, tmpfname_vector)\n",
    "\n",
    "    print(f\"Files in {tmpdirname}: {glob(tmpdirname + '/*')}\")\n",
    "\n",
    "    v6_other = load_newick(tmpfname_vector)\n",
    "    print(f\"Loaded newick back to vector: {repr(v6_other)}\")\n",
    "    assert np.array_equal(v6_other, v6)  # should be the same\n",
    "\n",
    "    print()\n",
    "    tmpfname_matrix = f\"{tmpdirname}/m6.txt\"\n",
    "\n",
    "    m6 = np.array(\n",
    "        [\n",
    "            [0.0, 0.68952268, 0.29305875],\n",
    "            [1.0, 0.94858885, 0.52901864],\n",
    "            [3.0, 0.98526967, 0.5341301],\n",
    "            [5.0, 0.39921775, 0.31769511],\n",
    "        ]\n",
    "    )\n",
    "    print(f\"Saving as newick:\\n{repr(m6)}\")\n",
    "    save_newick(m6.astype(np.float32), tmpfname_matrix)\n",
    "\n",
    "    print(f\"Files in {tmpdirname}: {glob(tmpdirname + '/*')}\")\n",
    "\n",
    "    m6_other = load_newick(tmpfname_matrix)\n",
    "    print(f\"Loaded newick back to matrix:\\n{repr(m6_other)}\")\n",
    "\n",
    "    assert np.allclose(m6, m6_other)  # should be the same"
   ]
  }
 ],
 "metadata": {
  "kernelspec": {
   "display_name": "phylo",
   "language": "python",
   "name": "python3"
  },
  "language_info": {
   "codemirror_mode": {
    "name": "ipython",
    "version": 3
   },
   "file_extension": ".py",
   "mimetype": "text/x-python",
   "name": "python",
   "nbconvert_exporter": "python",
   "pygments_lexer": "ipython3",
   "version": "3.10.10"
  }
 },
 "nbformat": 4,
 "nbformat_minor": 2
}
